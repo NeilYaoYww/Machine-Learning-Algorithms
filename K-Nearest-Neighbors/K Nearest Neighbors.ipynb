{
 "cells": [
  {
   "cell_type": "markdown",
   "metadata": {},
   "source": [
    "### 1. K-Nearest-Neighbor (KNN) classification on Newsgroups [Dataset: newsgroups.zip]"
   ]
  },
  {
   "cell_type": "code",
   "execution_count": 1,
   "metadata": {
    "collapsed": true
   },
   "outputs": [],
   "source": [
    "import operator\n",
    "import numpy as np\n",
    "import pandas as pd\n",
    "import matplotlib.pyplot as plt\n",
    "%matplotlib inline"
   ]
  },
  {
   "cell_type": "code",
   "execution_count": 2,
   "metadata": {
    "collapsed": true
   },
   "outputs": [],
   "source": [
    "### Import Training Data, Testing Data and Labels\n",
    "df_train = pd.read_table('trainMatrixModified.txt', header = None)\n",
    "df_test = pd.read_table('testMatrixModified.txt', header = None)\n",
    "labels = pd.read_table('modifiedterms.txt', header = None)"
   ]
  },
  {
   "cell_type": "code",
   "execution_count": 3,
   "metadata": {
    "collapsed": false
   },
   "outputs": [
    {
     "data": {
      "text/plain": [
       "((5500, 800), (5500, 200), (5500, 1))"
      ]
     },
     "execution_count": 3,
     "metadata": {},
     "output_type": "execute_result"
    }
   ],
   "source": [
    "df_train.shape, df_test.shape, labels.shape"
   ]
  },
  {
   "cell_type": "code",
   "execution_count": 4,
   "metadata": {
    "collapsed": true
   },
   "outputs": [],
   "source": [
    "### Import Training Labels And Testing Labels"
   ]
  },
  {
   "cell_type": "code",
   "execution_count": 5,
   "metadata": {
    "collapsed": true
   },
   "outputs": [],
   "source": [
    "labels_train = pd.read_table('trainClasses.txt', header = None)[1]\n",
    "labels_test = pd.read_table('testClasses.txt', header = None)[1]"
   ]
  },
  {
   "cell_type": "code",
   "execution_count": 6,
   "metadata": {
    "collapsed": false
   },
   "outputs": [
    {
     "data": {
      "text/plain": [
       "((800,), (200,))"
      ]
     },
     "execution_count": 6,
     "metadata": {},
     "output_type": "execute_result"
    }
   ],
   "source": [
    "labels_train.shape, labels_test.shape"
   ]
  },
  {
   "cell_type": "code",
   "execution_count": 7,
   "metadata": {
    "collapsed": true
   },
   "outputs": [],
   "source": [
    "### Transpose the Dataframe and We convert Dataframe into a Numpy \n",
    "df_train_trans = np.array(df_train.T)\n",
    "df_test_trans = np.array(df_test.T)"
   ]
  },
  {
   "cell_type": "code",
   "execution_count": 8,
   "metadata": {
    "collapsed": false
   },
   "outputs": [
    {
     "data": {
      "text/plain": [
       "((800, 5500), (200, 5500))"
      ]
     },
     "execution_count": 8,
     "metadata": {},
     "output_type": "execute_result"
    }
   ],
   "source": [
    "df_train_trans.shape, df_test_trans.shape"
   ]
  },
  {
   "cell_type": "markdown",
   "metadata": {},
   "source": [
    "#### 1.a Create your own KNN classifier. Your classifier should allow as input the training data matrix, the training labels, the instance to be classified, the value of K, and should return the predicted class for the instance and the top K neighbors. Your classifier should work with Euclidean distance as well as Cosine Similarity (see class examples). You may create two separate classifiers, or add this capability as a parameter for the classifier function."
   ]
  },
  {
   "cell_type": "code",
   "execution_count": 9,
   "metadata": {
    "collapsed": true
   },
   "outputs": [],
   "source": [
    "def knn_search(test, train, labels, K, measure):\n",
    "    ''' find K nearest neighbours of each data point in test among train '''\n",
    "    dists=[]\n",
    "    if measure == 0: # euclidean distances from the other points\n",
    "        for f in range(len(test)):\n",
    "            dists.append(list(np.sqrt(((train - test[f])**2).sum(axis=1)))) \n",
    "        dists = np.asarray(dists)\n",
    "        id_nearest = np.argsort(dists)\n",
    "        id_nearest = id_nearest[:,0:K] #get the index of K nearest neighbors\n",
    "    \n",
    "    ''' Cosine Similarity from the other points '''\n",
    "    if measure == 1: #\n",
    "        train_norm = np.array([np.linalg.norm(train[i]) for i in range(len(train))])\n",
    "        for f in range(len(test)):         \n",
    "            test_norm = np.linalg.norm(test[f])\n",
    "            sims = np.dot(train,test[f])/(train_norm * test_norm)\n",
    "            dists.append(1-sims)\n",
    "        id_nearest = np.argsort(dists)[:,0:K]\n",
    "    \n",
    "    ''' classify new instances based on nearest neighbors '''\n",
    "    final_class=[]\n",
    "    for i in range(len(test)):\n",
    "        classcount = {} #create an empty dictionary to store votings\n",
    "        for j in range(K):\n",
    "            if str(labels[(id_nearest[i][j])]) not in classcount.keys():                   \n",
    "                classcount[str(labels[(id_nearest[i][j])])]=1\n",
    "            else:\n",
    "                classcount[str(labels[(id_nearest[i][j])])]+=1\n",
    "        classcount=sorted(classcount.items(), key=operator.itemgetter(1)) #sort the votings\n",
    "        if len(classcount)==1:\n",
    "             final_class.append(int(classcount[0][0]))\n",
    "        elif classcount[-1][1] > classcount[-2][1] or len(classcount)==1: #when we have a majority class\n",
    "             final_class.append(int(classcount[-1][0]))\n",
    "        else: #when top 2 classes have the same votings\n",
    "            final_class.append(labels[id_nearest[i][0]])\n",
    "            \n",
    "    return final_class, id_nearest"
   ]
  },
  {
   "cell_type": "markdown",
   "metadata": {
    "collapsed": false
   },
   "source": [
    "#### 1.b Create a function to compute the classification accuracy over the test data set (ratio of correct predictions to the number of test instances). This function will call the classifier function on all the test instances and in each case compares the actual test class label to the predicted class label."
   ]
  },
  {
   "cell_type": "code",
   "execution_count": 10,
   "metadata": {
    "collapsed": false
   },
   "outputs": [],
   "source": [
    "def accuracy(predicted, actual):\n",
    "    ''' convert both to lists'''\n",
    "    predicted=list(predicted)\n",
    "    actual=list(actual)\n",
    "    correct=0\n",
    "    if len(predicted) == len(actual): # make sure they have the same size\n",
    "        for i in range(len(predicted)):\n",
    "            if predicted[i]==actual[i]:\n",
    "                correct+=1\n",
    "        return correct/float(len(predicted))\n",
    "    else:\n",
    "        print (\"Error! The sizes of two files are not matching\")    "
   ]
  },
  {
   "cell_type": "code",
   "execution_count": 11,
   "metadata": {
    "collapsed": false
   },
   "outputs": [
    {
     "data": {
      "text/plain": [
       "0.81"
      ]
     },
     "execution_count": 11,
     "metadata": {},
     "output_type": "execute_result"
    }
   ],
   "source": [
    "predicted, id_nearest = knn_search(df_test_trans,df_train_trans,labels_train,3,0)\n",
    "accuracy(predicted, labels_test)"
   ]
  },
  {
   "cell_type": "markdown",
   "metadata": {},
   "source": [
    "#### 1.c Run your accuracy function on a range of values for K in order to compare accuracy values for different numbers of neighbors. Do this both using Euclidean Distance as well as Cosine similarity measure. [For example, you can try evaluating your classifiers on a range of values of K from 1 through 20 and present the results as a table or a graph]."
   ]
  },
  {
   "cell_type": "code",
   "execution_count": 12,
   "metadata": {
    "collapsed": false
   },
   "outputs": [],
   "source": [
    "### Euclidean Distance - K(1~19)\n",
    "Accuracy_Euc = []\n",
    "for i in range(1,20):\n",
    "    predicted, id_nearest = knn_search(df_test_trans,df_train_trans,labels_train,i,0)\n",
    "    Accuracy_Euc.append(accuracy(predicted, labels_test ))"
   ]
  },
  {
   "cell_type": "code",
   "execution_count": 13,
   "metadata": {
    "collapsed": true
   },
   "outputs": [],
   "source": [
    "### Cosine similarity - K(1~19)\n",
    "Accuracy_Cos = []\n",
    "for i in range(1,20):\n",
    "    predicted, id_nearest = knn_search(df_test_trans,df_train_trans,labels_train,i,1)\n",
    "    Accuracy_Cos.append(accuracy(predicted, labels_test ))"
   ]
  },
  {
   "cell_type": "code",
   "execution_count": 14,
   "metadata": {
    "collapsed": false
   },
   "outputs": [
    {
     "data": {
      "image/png": "[encoded data removed]",
      "text/plain": [
       "<matplotlib.figure.Figure at 0x982def0>"
      ]
     },
     "metadata": {},
     "output_type": "display_data"
    }
   ],
   "source": [
    "K=list(range(1,20))\n",
    "plt.plot(K, Accuracy_Euc, 'ro', label='Euclidean Distance')\n",
    "plt.plot(K, Accuracy_Cos, 'bs', label='Cosine similarity')\n",
    "plt.xlabel('K')\n",
    "plt.ylabel('Accuracy')\n",
    "plt.title('knn Accuracy')\n",
    "plt.legend(loc='center right')\n",
    "plt.grid(True)\n",
    "plt.legend(loc='center left', bbox_to_anchor=(1, 0.5))\n",
    "plt.show()"
   ]
  },
  {
   "cell_type": "markdown",
   "metadata": {},
   "source": [
    "#### 1.d Using Python, modify the training and test data sets so that term weights are converted to TFxIDF weights (instead of raw term frequencies). [See class notes on Text Categorization]. Then, rerun your evaluation on the range of K values (as above) and compare the results to the results without using TFxIDF weights."
   ]
  },
  {
   "cell_type": "code",
   "execution_count": 15,
   "metadata": {
    "collapsed": false
   },
   "outputs": [],
   "source": [
    "### Calculate IDF for Training Set\n",
    "NDoc = len(df_train[0])\n",
    "DF = np.array([(df_train!=0).sum(1)]).T ### Calculate DF(Document Frequency)\n",
    "M = np.ones(np.shape(df_train), dtype = float)*NDoc ### Create a matrix with all entries = NDocs\n",
    "IDF = np.log2(M/DF)"
   ]
  },
  {
   "cell_type": "code",
   "execution_count": 16,
   "metadata": {
    "collapsed": false
   },
   "outputs": [
    {
     "data": {
      "text/plain": [
       "(5500, 200)"
      ]
     },
     "execution_count": 16,
     "metadata": {},
     "output_type": "execute_result"
    }
   ],
   "source": [
    "### IDF for Testing Set (use the same idf from training set)\n",
    "IDF_train = IDF\n",
    "IDF_test = IDF[:,0:200]\n",
    "IDF_test.shape"
   ]
  },
  {
   "cell_type": "code",
   "execution_count": 17,
   "metadata": {
    "collapsed": false
   },
   "outputs": [
    {
     "name": "stdout",
     "output_type": "stream",
     "text": [
      "(800, 5500) (200, 5500)\n"
     ]
    }
   ],
   "source": [
    "### TF*IDF for Traning and testing set\n",
    "### Then Transpose the Dataframe and We convert Dataframe into a Numpy\n",
    "df_IDF_train_trans = np.array((df_train*IDF_train).T)\n",
    "df_IDF_test_trans = np.array((df_test*IDF_test).T)\n",
    "print(df_IDF_train_trans.shape, df_IDF_test_trans.shape)"
   ]
  },
  {
   "cell_type": "code",
   "execution_count": 18,
   "metadata": {
    "collapsed": true
   },
   "outputs": [],
   "source": [
    "### Euclidean Distance - K(1~19)\n",
    "Accuracy_Euc = []\n",
    "for i in range(1,20):\n",
    "    predicted, id_nearest = knn_search(df_IDF_test_trans,df_IDF_train_trans,labels_train,i,0)\n",
    "    Accuracy_Euc.append(accuracy(predicted, labels_test ))\n",
    "### Cosine similarity - K(1~19)\n",
    "Accuracy_Cos = []\n",
    "for i in range(1,20):\n",
    "    predicted, id_nearest = knn_search(df_IDF_test_trans,df_IDF_train_trans,labels_train,i,1)\n",
    "    Accuracy_Cos.append(accuracy(predicted, labels_test ))"
   ]
  },
  {
   "cell_type": "code",
   "execution_count": 19,
   "metadata": {
    "collapsed": false
   },
   "outputs": [
    {
     "data": {
      "text/plain": [
       "<matplotlib.text.Text at 0xbbc1da0>"
      ]
     },
     "execution_count": 19,
     "metadata": {},
     "output_type": "execute_result"
    },
    {
     "data": {
      "image/png": "[encoded data removed]",
      "text/plain": [
       "<matplotlib.figure.Figure at 0xbeb0390>"
      ]
     },
     "metadata": {},
     "output_type": "display_data"
    }
   ],
   "source": [
    "K=list(range(1,20))\n",
    "f, (ax1, ax2) = plt.subplots(1, 2, sharey=True)\n",
    "ax1.scatter(K, Accuracy_Euc, c = \"r\")\n",
    "ax1.set_title('Euclidean Distance')\n",
    "ax2.scatter(K, Accuracy_Cos, c = \"b\")\n",
    "ax2.set_title('Cosine similarity')"
   ]
  },
  {
   "cell_type": "markdown",
   "metadata": {},
   "source": [
    "#### Euclidean Distance: \n",
    "    -The accuracy drops about 5% when TF*IDF transformation is used.\n",
    "\n",
    "#### Cosine similarity\n",
    "    -The accuracy is about the same with or without TF*IDF transformation, which is around 97%."
   ]
  },
  {
   "cell_type": "markdown",
   "metadata": {},
   "source": [
    "#### 1.e Create a classifier based on the Rocchio Method adapted for text categorization. The training part for the classifier can be implemented as a function that takes as input the training data matrix and the training labels, returning the prototype vectors for each class. The classification part can be implemented as another function that would take as input the prototypes returned from the training function and the instance to be classified. This function should measure Cosine similarity of the test instance to each prototype. Your output should indicate the predicted class for the test instance and the similarity values of the instance to each of the category prototypes. Finally, compute the classification accuracy using the test instances and compare your results to the best KNN approach you tried earlier."
   ]
  },
  {
   "cell_type": "code",
   "execution_count": 20,
   "metadata": {
    "collapsed": false
   },
   "outputs": [],
   "source": [
    "def Rocchio(df,labels):\n",
    "    ### Calculate TF*IDF \n",
    "    NDoc = len(df[0])\n",
    "    DF = np.array([(df!=0).sum(1)]).T ### Calculate DF(Document Frequency)\n",
    "    M = np.ones(np.shape(df), dtype = float)*NDoc ### Create a matrix with all entries = NDocs\n",
    "    IDF = np.log2(M/DF)\n",
    "    TF_IDF = np.array((df*IDF).T) # Return a doc*term matrix\n",
    "    \n",
    "    ### Separate Data by Labels\n",
    "    ### Use Pandas DataFrame to Generate two DF, then Transform Them Back to Numpy Arrays\n",
    "    df = pd.DataFrame(TF_IDF)\n",
    "    D = pd.concat((df,labels),axis=1)\n",
    "  \n",
    "    D_Class_One = D[D.iloc[:,-1] == 1]\n",
    "    D_Class_Two = D[D.iloc[:,-1] == 0]\n",
    "    D_Class_One = D_Class_One.iloc[:,0:-1].values\n",
    "    D_Class_Two = D_Class_Two.iloc[:,0:-1].values \n",
    "    ### Calculate prototype for Each Class\n",
    "    Proto_one = D_Class_One.sum(axis=0)\n",
    "    Proto_two = D_Class_Two.sum(axis=0)\n",
    "    \n",
    "    return  Proto_one, Proto_two"
   ]
  },
  {
   "cell_type": "code",
   "execution_count": 21,
   "metadata": {
    "collapsed": false
   },
   "outputs": [
    {
     "name": "stdout",
     "output_type": "stream",
     "text": [
      "(5500,) (5500,)\n"
     ]
    }
   ],
   "source": [
    "### Check the Shape of the Prototype Vectors\n",
    "Proto_one, Proto_two=Rocchio(df_train,labels_train)\n",
    "print(Proto_one.shape, Proto_two.shape)"
   ]
  },
  {
   "cell_type": "code",
   "execution_count": 23,
   "metadata": {
    "collapsed": false
   },
   "outputs": [],
   "source": [
    "def RocchioClassification(test):\n",
    "    Similarity = [] ### Store the Similarities\n",
    "    Prediction = [] ### Store the Predictions\n",
    "    for i in range(len(test)):\n",
    "        one_norm = np.linalg.norm(Proto_one)\n",
    "        two_norm = np.linalg.norm(Proto_two)\n",
    "        test_norm = np.linalg.norm(test[i])\n",
    "        cs_one = 1 - np.dot(Proto_one,test[i])/(one_norm * test_norm)\n",
    "        cs_two = 1 - np.dot(Proto_two,test[i])/(two_norm * test_norm)      \n",
    "        Similarity.append([cs_one, cs_two]) \n",
    "        if cs_one > cs_two:\n",
    "            Prediction.append(0)\n",
    "        else:\n",
    "            Prediction.append(1) \n",
    "    return Prediction, Similarity   "
   ]
  },
  {
   "cell_type": "code",
   "execution_count": 24,
   "metadata": {
    "collapsed": false
   },
   "outputs": [
    {
     "name": "stdout",
     "output_type": "stream",
     "text": [
      "The accuray of the Rocchio Classification is: 0.98\n"
     ]
    }
   ],
   "source": [
    "### Compute the Accuracy \n",
    "Prediction, Similarity  = RocchioClassification(df_test_trans)\n",
    "accu = accuracy(Prediction, labels_test)\n",
    "print (\"The accuray of the Rocchio Classification is: \" + str(accu ))"
   ]
  },
  {
   "cell_type": "markdown",
   "metadata": {},
   "source": [
    "##### Conclusion:\n",
    "    The accuracy of the Rocchio Method is 0.98, which is close to the results of KNN(Cosine Similarity) classifier and is higher than the results of KNN(Euclidean Distance) classifier."
   ]
  },
  {
   "cell_type": "markdown",
   "metadata": {
    "collapsed": true
   },
   "source": [
    "### 2.Classification using scikit-learn [Dataset: bank_data.csv]"
   ]
  },
  {
   "cell_type": "markdown",
   "metadata": {},
   "source": [
    "#### 2.a Load and preprocess the data using Numpy or Pandas and the preprocessing functions from scikit-learn. Specifically, you need to separate the target attribute (\"pep\") from the portion of the data to be used for training and testing. You will need to convert the selected dataset into the Standard Spreadsheet format (scikit-learn functions generally assume that all attributes are in numeric form). Finally, you need to split the transformed data into training and test sets (using 80%-20% randomized split). [Review Ipython Notebook examples from Week 4 for different ways to perform these tasks.]"
   ]
  },
  {
   "cell_type": "code",
   "execution_count": 25,
   "metadata": {
    "collapsed": false
   },
   "outputs": [
    {
     "data": {
      "text/html": [
       "<div>\n",
       "<table border=\"1\" class=\"dataframe\">\n",
       "  <thead>\n",
       "    <tr style=\"text-align: right;\">\n",
       "      <th></th>\n",
       "      <th>id</th>\n",
       "      <th>age</th>\n",
       "      <th>income</th>\n",
       "      <th>children</th>\n",
       "      <th>gender</th>\n",
       "      <th>region</th>\n",
       "      <th>married</th>\n",
       "      <th>car</th>\n",
       "      <th>savings_acct</th>\n",
       "      <th>current_acct</th>\n",
       "      <th>mortgage</th>\n",
       "      <th>pep</th>\n",
       "    </tr>\n",
       "  </thead>\n",
       "  <tbody>\n",
       "    <tr>\n",
       "      <th>0</th>\n",
       "      <td>ID12101</td>\n",
       "      <td>48</td>\n",
       "      <td>17546.0</td>\n",
       "      <td>1</td>\n",
       "      <td>FEMALE</td>\n",
       "      <td>INNER_CITY</td>\n",
       "      <td>NO</td>\n",
       "      <td>NO</td>\n",
       "      <td>NO</td>\n",
       "      <td>NO</td>\n",
       "      <td>NO</td>\n",
       "      <td>YES</td>\n",
       "    </tr>\n",
       "    <tr>\n",
       "      <th>1</th>\n",
       "      <td>ID12102</td>\n",
       "      <td>40</td>\n",
       "      <td>30085.1</td>\n",
       "      <td>3</td>\n",
       "      <td>MALE</td>\n",
       "      <td>TOWN</td>\n",
       "      <td>YES</td>\n",
       "      <td>YES</td>\n",
       "      <td>NO</td>\n",
       "      <td>YES</td>\n",
       "      <td>YES</td>\n",
       "      <td>NO</td>\n",
       "    </tr>\n",
       "    <tr>\n",
       "      <th>2</th>\n",
       "      <td>ID12103</td>\n",
       "      <td>51</td>\n",
       "      <td>16575.4</td>\n",
       "      <td>0</td>\n",
       "      <td>FEMALE</td>\n",
       "      <td>INNER_CITY</td>\n",
       "      <td>YES</td>\n",
       "      <td>YES</td>\n",
       "      <td>YES</td>\n",
       "      <td>YES</td>\n",
       "      <td>NO</td>\n",
       "      <td>NO</td>\n",
       "    </tr>\n",
       "    <tr>\n",
       "      <th>3</th>\n",
       "      <td>ID12104</td>\n",
       "      <td>23</td>\n",
       "      <td>20375.4</td>\n",
       "      <td>3</td>\n",
       "      <td>FEMALE</td>\n",
       "      <td>TOWN</td>\n",
       "      <td>YES</td>\n",
       "      <td>NO</td>\n",
       "      <td>NO</td>\n",
       "      <td>YES</td>\n",
       "      <td>NO</td>\n",
       "      <td>NO</td>\n",
       "    </tr>\n",
       "    <tr>\n",
       "      <th>4</th>\n",
       "      <td>ID12105</td>\n",
       "      <td>57</td>\n",
       "      <td>50576.3</td>\n",
       "      <td>0</td>\n",
       "      <td>FEMALE</td>\n",
       "      <td>RURAL</td>\n",
       "      <td>YES</td>\n",
       "      <td>NO</td>\n",
       "      <td>YES</td>\n",
       "      <td>NO</td>\n",
       "      <td>NO</td>\n",
       "      <td>NO</td>\n",
       "    </tr>\n",
       "  </tbody>\n",
       "</table>\n",
       "</div>"
      ],
      "text/plain": [
       "        id  age   income  children  gender      region married  car  \\\n",
       "0  ID12101   48  17546.0         1  FEMALE  INNER_CITY      NO   NO   \n",
       "1  ID12102   40  30085.1         3    MALE        TOWN     YES  YES   \n",
       "2  ID12103   51  16575.4         0  FEMALE  INNER_CITY     YES  YES   \n",
       "3  ID12104   23  20375.4         3  FEMALE        TOWN     YES   NO   \n",
       "4  ID12105   57  50576.3         0  FEMALE       RURAL     YES   NO   \n",
       "\n",
       "  savings_acct current_acct mortgage  pep  \n",
       "0           NO           NO       NO  YES  \n",
       "1           NO          YES      YES   NO  \n",
       "2          YES          YES       NO   NO  \n",
       "3           NO          YES       NO   NO  \n",
       "4          YES           NO       NO   NO  "
      ]
     },
     "execution_count": 25,
     "metadata": {},
     "output_type": "execute_result"
    }
   ],
   "source": [
    "# Read The File\n",
    "df=pd.read_csv(\"bank_data.csv\", sep=',')\n",
    "df.head()"
   ]
  },
  {
   "cell_type": "code",
   "execution_count": 26,
   "metadata": {
    "collapsed": false
   },
   "outputs": [],
   "source": [
    "### Strip the target variable\n",
    "df_labels=df['pep']\n",
    "#labels_train = labels_train.map({'YES': 1, 'NO': 0}) ### replace \"yes\", \"no\" with 1 and 0\n",
    "df.drop('pep', axis=1, inplace=True)"
   ]
  },
  {
   "cell_type": "code",
   "execution_count": 27,
   "metadata": {
    "collapsed": false
   },
   "outputs": [
    {
     "data": {
      "text/html": [
       "<div>\n",
       "<table border=\"1\" class=\"dataframe\">\n",
       "  <thead>\n",
       "    <tr style=\"text-align: right;\">\n",
       "      <th></th>\n",
       "      <th>age</th>\n",
       "      <th>income</th>\n",
       "      <th>children</th>\n",
       "    </tr>\n",
       "  </thead>\n",
       "  <tbody>\n",
       "    <tr>\n",
       "      <th>0</th>\n",
       "      <td>0.612245</td>\n",
       "      <td>0.215634</td>\n",
       "      <td>0.333333</td>\n",
       "    </tr>\n",
       "    <tr>\n",
       "      <th>1</th>\n",
       "      <td>0.448980</td>\n",
       "      <td>0.431395</td>\n",
       "      <td>1.000000</td>\n",
       "    </tr>\n",
       "    <tr>\n",
       "      <th>2</th>\n",
       "      <td>0.673469</td>\n",
       "      <td>0.198933</td>\n",
       "      <td>0.000000</td>\n",
       "    </tr>\n",
       "    <tr>\n",
       "      <th>3</th>\n",
       "      <td>0.102041</td>\n",
       "      <td>0.264320</td>\n",
       "      <td>1.000000</td>\n",
       "    </tr>\n",
       "    <tr>\n",
       "      <th>4</th>\n",
       "      <td>0.795918</td>\n",
       "      <td>0.783987</td>\n",
       "      <td>0.000000</td>\n",
       "    </tr>\n",
       "  </tbody>\n",
       "</table>\n",
       "</div>"
      ],
      "text/plain": [
       "        age    income  children\n",
       "0  0.612245  0.215634  0.333333\n",
       "1  0.448980  0.431395  1.000000\n",
       "2  0.673469  0.198933  0.000000\n",
       "3  0.102041  0.264320  1.000000\n",
       "4  0.795918  0.783987  0.000000"
      ]
     },
     "execution_count": 27,
     "metadata": {},
     "output_type": "execute_result"
    }
   ],
   "source": [
    "### Normalize numeric variables using Min-Max-Scaler\n",
    "from sklearn import preprocessing\n",
    "numeric = df[df.columns[1:4]] # get \"age\", \"income\" and \"children\"\n",
    "min_max_scaler = preprocessing.MinMaxScaler().fit(numeric)\n",
    "numeric_norm = min_max_scaler.transform(numeric)\n",
    "numeric_norm = pd.DataFrame(numeric_norm,columns=[\"age\",\"income\",\"children\"])\n",
    "numeric_norm.head()"
   ]
  },
  {
   "cell_type": "code",
   "execution_count": 28,
   "metadata": {
    "collapsed": false
   },
   "outputs": [
    {
     "data": {
      "text/html": [
       "<div>\n",
       "<table border=\"1\" class=\"dataframe\">\n",
       "  <thead>\n",
       "    <tr style=\"text-align: right;\">\n",
       "      <th></th>\n",
       "      <th>gender_FEMALE</th>\n",
       "      <th>gender_MALE</th>\n",
       "      <th>region_INNER_CITY</th>\n",
       "      <th>region_RURAL</th>\n",
       "      <th>region_SUBURBAN</th>\n",
       "      <th>region_TOWN</th>\n",
       "      <th>married_NO</th>\n",
       "      <th>married_YES</th>\n",
       "      <th>car_NO</th>\n",
       "      <th>car_YES</th>\n",
       "      <th>savings_acct_NO</th>\n",
       "      <th>savings_acct_YES</th>\n",
       "      <th>current_acct_NO</th>\n",
       "      <th>current_acct_YES</th>\n",
       "      <th>mortgage_NO</th>\n",
       "      <th>mortgage_YES</th>\n",
       "    </tr>\n",
       "  </thead>\n",
       "  <tbody>\n",
       "    <tr>\n",
       "      <th>0</th>\n",
       "      <td>1.0</td>\n",
       "      <td>0.0</td>\n",
       "      <td>1.0</td>\n",
       "      <td>0.0</td>\n",
       "      <td>0.0</td>\n",
       "      <td>0.0</td>\n",
       "      <td>1.0</td>\n",
       "      <td>0.0</td>\n",
       "      <td>1.0</td>\n",
       "      <td>0.0</td>\n",
       "      <td>1.0</td>\n",
       "      <td>0.0</td>\n",
       "      <td>1.0</td>\n",
       "      <td>0.0</td>\n",
       "      <td>1.0</td>\n",
       "      <td>0.0</td>\n",
       "    </tr>\n",
       "    <tr>\n",
       "      <th>1</th>\n",
       "      <td>0.0</td>\n",
       "      <td>1.0</td>\n",
       "      <td>0.0</td>\n",
       "      <td>0.0</td>\n",
       "      <td>0.0</td>\n",
       "      <td>1.0</td>\n",
       "      <td>0.0</td>\n",
       "      <td>1.0</td>\n",
       "      <td>0.0</td>\n",
       "      <td>1.0</td>\n",
       "      <td>1.0</td>\n",
       "      <td>0.0</td>\n",
       "      <td>0.0</td>\n",
       "      <td>1.0</td>\n",
       "      <td>0.0</td>\n",
       "      <td>1.0</td>\n",
       "    </tr>\n",
       "    <tr>\n",
       "      <th>2</th>\n",
       "      <td>1.0</td>\n",
       "      <td>0.0</td>\n",
       "      <td>1.0</td>\n",
       "      <td>0.0</td>\n",
       "      <td>0.0</td>\n",
       "      <td>0.0</td>\n",
       "      <td>0.0</td>\n",
       "      <td>1.0</td>\n",
       "      <td>0.0</td>\n",
       "      <td>1.0</td>\n",
       "      <td>0.0</td>\n",
       "      <td>1.0</td>\n",
       "      <td>0.0</td>\n",
       "      <td>1.0</td>\n",
       "      <td>1.0</td>\n",
       "      <td>0.0</td>\n",
       "    </tr>\n",
       "    <tr>\n",
       "      <th>3</th>\n",
       "      <td>1.0</td>\n",
       "      <td>0.0</td>\n",
       "      <td>0.0</td>\n",
       "      <td>0.0</td>\n",
       "      <td>0.0</td>\n",
       "      <td>1.0</td>\n",
       "      <td>0.0</td>\n",
       "      <td>1.0</td>\n",
       "      <td>1.0</td>\n",
       "      <td>0.0</td>\n",
       "      <td>1.0</td>\n",
       "      <td>0.0</td>\n",
       "      <td>0.0</td>\n",
       "      <td>1.0</td>\n",
       "      <td>1.0</td>\n",
       "      <td>0.0</td>\n",
       "    </tr>\n",
       "    <tr>\n",
       "      <th>4</th>\n",
       "      <td>1.0</td>\n",
       "      <td>0.0</td>\n",
       "      <td>0.0</td>\n",
       "      <td>1.0</td>\n",
       "      <td>0.0</td>\n",
       "      <td>0.0</td>\n",
       "      <td>0.0</td>\n",
       "      <td>1.0</td>\n",
       "      <td>1.0</td>\n",
       "      <td>0.0</td>\n",
       "      <td>0.0</td>\n",
       "      <td>1.0</td>\n",
       "      <td>1.0</td>\n",
       "      <td>0.0</td>\n",
       "      <td>1.0</td>\n",
       "      <td>0.0</td>\n",
       "    </tr>\n",
       "  </tbody>\n",
       "</table>\n",
       "</div>"
      ],
      "text/plain": [
       "   gender_FEMALE  gender_MALE  region_INNER_CITY  region_RURAL  \\\n",
       "0            1.0          0.0                1.0           0.0   \n",
       "1            0.0          1.0                0.0           0.0   \n",
       "2            1.0          0.0                1.0           0.0   \n",
       "3            1.0          0.0                0.0           0.0   \n",
       "4            1.0          0.0                0.0           1.0   \n",
       "\n",
       "   region_SUBURBAN  region_TOWN  married_NO  married_YES  car_NO  car_YES  \\\n",
       "0              0.0          0.0         1.0          0.0     1.0      0.0   \n",
       "1              0.0          1.0         0.0          1.0     0.0      1.0   \n",
       "2              0.0          0.0         0.0          1.0     0.0      1.0   \n",
       "3              0.0          1.0         0.0          1.0     1.0      0.0   \n",
       "4              0.0          0.0         0.0          1.0     1.0      0.0   \n",
       "\n",
       "   savings_acct_NO  savings_acct_YES  current_acct_NO  current_acct_YES  \\\n",
       "0              1.0               0.0              1.0               0.0   \n",
       "1              1.0               0.0              0.0               1.0   \n",
       "2              0.0               1.0              0.0               1.0   \n",
       "3              1.0               0.0              0.0               1.0   \n",
       "4              0.0               1.0              1.0               0.0   \n",
       "\n",
       "   mortgage_NO  mortgage_YES  \n",
       "0          1.0           0.0  \n",
       "1          0.0           1.0  \n",
       "2          1.0           0.0  \n",
       "3          1.0           0.0  \n",
       "4          1.0           0.0  "
      ]
     },
     "execution_count": 28,
     "metadata": {},
     "output_type": "execute_result"
    }
   ],
   "source": [
    "### Get dummy variables for categorical variables\n",
    "dummies = pd.get_dummies(df[df.columns[4:]])\n",
    "dummies.head()"
   ]
  },
  {
   "cell_type": "code",
   "execution_count": 29,
   "metadata": {
    "collapsed": false
   },
   "outputs": [
    {
     "data": {
      "text/html": [
       "<div>\n",
       "<table border=\"1\" class=\"dataframe\">\n",
       "  <thead>\n",
       "    <tr style=\"text-align: right;\">\n",
       "      <th></th>\n",
       "      <th>age</th>\n",
       "      <th>income</th>\n",
       "      <th>children</th>\n",
       "      <th>gender_FEMALE</th>\n",
       "      <th>gender_MALE</th>\n",
       "      <th>region_INNER_CITY</th>\n",
       "      <th>region_RURAL</th>\n",
       "      <th>region_SUBURBAN</th>\n",
       "      <th>region_TOWN</th>\n",
       "      <th>married_NO</th>\n",
       "      <th>married_YES</th>\n",
       "      <th>car_NO</th>\n",
       "      <th>car_YES</th>\n",
       "      <th>savings_acct_NO</th>\n",
       "      <th>savings_acct_YES</th>\n",
       "      <th>current_acct_NO</th>\n",
       "      <th>current_acct_YES</th>\n",
       "      <th>mortgage_NO</th>\n",
       "      <th>mortgage_YES</th>\n",
       "    </tr>\n",
       "  </thead>\n",
       "  <tbody>\n",
       "    <tr>\n",
       "      <th>0</th>\n",
       "      <td>0.612245</td>\n",
       "      <td>0.215634</td>\n",
       "      <td>0.333333</td>\n",
       "      <td>1.0</td>\n",
       "      <td>0.0</td>\n",
       "      <td>1.0</td>\n",
       "      <td>0.0</td>\n",
       "      <td>0.0</td>\n",
       "      <td>0.0</td>\n",
       "      <td>1.0</td>\n",
       "      <td>0.0</td>\n",
       "      <td>1.0</td>\n",
       "      <td>0.0</td>\n",
       "      <td>1.0</td>\n",
       "      <td>0.0</td>\n",
       "      <td>1.0</td>\n",
       "      <td>0.0</td>\n",
       "      <td>1.0</td>\n",
       "      <td>0.0</td>\n",
       "    </tr>\n",
       "    <tr>\n",
       "      <th>1</th>\n",
       "      <td>0.448980</td>\n",
       "      <td>0.431395</td>\n",
       "      <td>1.000000</td>\n",
       "      <td>0.0</td>\n",
       "      <td>1.0</td>\n",
       "      <td>0.0</td>\n",
       "      <td>0.0</td>\n",
       "      <td>0.0</td>\n",
       "      <td>1.0</td>\n",
       "      <td>0.0</td>\n",
       "      <td>1.0</td>\n",
       "      <td>0.0</td>\n",
       "      <td>1.0</td>\n",
       "      <td>1.0</td>\n",
       "      <td>0.0</td>\n",
       "      <td>0.0</td>\n",
       "      <td>1.0</td>\n",
       "      <td>0.0</td>\n",
       "      <td>1.0</td>\n",
       "    </tr>\n",
       "    <tr>\n",
       "      <th>2</th>\n",
       "      <td>0.673469</td>\n",
       "      <td>0.198933</td>\n",
       "      <td>0.000000</td>\n",
       "      <td>1.0</td>\n",
       "      <td>0.0</td>\n",
       "      <td>1.0</td>\n",
       "      <td>0.0</td>\n",
       "      <td>0.0</td>\n",
       "      <td>0.0</td>\n",
       "      <td>0.0</td>\n",
       "      <td>1.0</td>\n",
       "      <td>0.0</td>\n",
       "      <td>1.0</td>\n",
       "      <td>0.0</td>\n",
       "      <td>1.0</td>\n",
       "      <td>0.0</td>\n",
       "      <td>1.0</td>\n",
       "      <td>1.0</td>\n",
       "      <td>0.0</td>\n",
       "    </tr>\n",
       "    <tr>\n",
       "      <th>3</th>\n",
       "      <td>0.102041</td>\n",
       "      <td>0.264320</td>\n",
       "      <td>1.000000</td>\n",
       "      <td>1.0</td>\n",
       "      <td>0.0</td>\n",
       "      <td>0.0</td>\n",
       "      <td>0.0</td>\n",
       "      <td>0.0</td>\n",
       "      <td>1.0</td>\n",
       "      <td>0.0</td>\n",
       "      <td>1.0</td>\n",
       "      <td>1.0</td>\n",
       "      <td>0.0</td>\n",
       "      <td>1.0</td>\n",
       "      <td>0.0</td>\n",
       "      <td>0.0</td>\n",
       "      <td>1.0</td>\n",
       "      <td>1.0</td>\n",
       "      <td>0.0</td>\n",
       "    </tr>\n",
       "    <tr>\n",
       "      <th>4</th>\n",
       "      <td>0.795918</td>\n",
       "      <td>0.783987</td>\n",
       "      <td>0.000000</td>\n",
       "      <td>1.0</td>\n",
       "      <td>0.0</td>\n",
       "      <td>0.0</td>\n",
       "      <td>1.0</td>\n",
       "      <td>0.0</td>\n",
       "      <td>0.0</td>\n",
       "      <td>0.0</td>\n",
       "      <td>1.0</td>\n",
       "      <td>1.0</td>\n",
       "      <td>0.0</td>\n",
       "      <td>0.0</td>\n",
       "      <td>1.0</td>\n",
       "      <td>1.0</td>\n",
       "      <td>0.0</td>\n",
       "      <td>1.0</td>\n",
       "      <td>0.0</td>\n",
       "    </tr>\n",
       "  </tbody>\n",
       "</table>\n",
       "</div>"
      ],
      "text/plain": [
       "        age    income  children  gender_FEMALE  gender_MALE  \\\n",
       "0  0.612245  0.215634  0.333333            1.0          0.0   \n",
       "1  0.448980  0.431395  1.000000            0.0          1.0   \n",
       "2  0.673469  0.198933  0.000000            1.0          0.0   \n",
       "3  0.102041  0.264320  1.000000            1.0          0.0   \n",
       "4  0.795918  0.783987  0.000000            1.0          0.0   \n",
       "\n",
       "   region_INNER_CITY  region_RURAL  region_SUBURBAN  region_TOWN  married_NO  \\\n",
       "0                1.0           0.0              0.0          0.0         1.0   \n",
       "1                0.0           0.0              0.0          1.0         0.0   \n",
       "2                1.0           0.0              0.0          0.0         0.0   \n",
       "3                0.0           0.0              0.0          1.0         0.0   \n",
       "4                0.0           1.0              0.0          0.0         0.0   \n",
       "\n",
       "   married_YES  car_NO  car_YES  savings_acct_NO  savings_acct_YES  \\\n",
       "0          0.0     1.0      0.0              1.0               0.0   \n",
       "1          1.0     0.0      1.0              1.0               0.0   \n",
       "2          1.0     0.0      1.0              0.0               1.0   \n",
       "3          1.0     1.0      0.0              1.0               0.0   \n",
       "4          1.0     1.0      0.0              0.0               1.0   \n",
       "\n",
       "   current_acct_NO  current_acct_YES  mortgage_NO  mortgage_YES  \n",
       "0              1.0               0.0          1.0           0.0  \n",
       "1              0.0               1.0          0.0           1.0  \n",
       "2              0.0               1.0          1.0           0.0  \n",
       "3              0.0               1.0          1.0           0.0  \n",
       "4              1.0               0.0          1.0           0.0  "
      ]
     },
     "execution_count": 29,
     "metadata": {},
     "output_type": "execute_result"
    }
   ],
   "source": [
    "### Concate numeric_norm and dummies\n",
    "df_new = pd.concat((numeric_norm,dummies),axis=1)\n",
    "df_new.head()"
   ]
  },
  {
   "cell_type": "code",
   "execution_count": 30,
   "metadata": {
    "collapsed": false
   },
   "outputs": [
    {
     "name": "stdout",
     "output_type": "stream",
     "text": [
      "(480, 19) (120, 19)\n"
     ]
    },
    {
     "data": {
      "text/html": [
       "<div>\n",
       "<table border=\"1\" class=\"dataframe\">\n",
       "  <thead>\n",
       "    <tr style=\"text-align: right;\">\n",
       "      <th></th>\n",
       "      <th>age</th>\n",
       "      <th>income</th>\n",
       "      <th>children</th>\n",
       "      <th>gender_FEMALE</th>\n",
       "      <th>gender_MALE</th>\n",
       "      <th>region_INNER_CITY</th>\n",
       "      <th>region_RURAL</th>\n",
       "      <th>region_SUBURBAN</th>\n",
       "      <th>region_TOWN</th>\n",
       "      <th>married_NO</th>\n",
       "      <th>married_YES</th>\n",
       "      <th>car_NO</th>\n",
       "      <th>car_YES</th>\n",
       "      <th>savings_acct_NO</th>\n",
       "      <th>savings_acct_YES</th>\n",
       "      <th>current_acct_NO</th>\n",
       "      <th>current_acct_YES</th>\n",
       "      <th>mortgage_NO</th>\n",
       "      <th>mortgage_YES</th>\n",
       "    </tr>\n",
       "  </thead>\n",
       "  <tbody>\n",
       "    <tr>\n",
       "      <th>456</th>\n",
       "      <td>0.285714</td>\n",
       "      <td>0.142016</td>\n",
       "      <td>0.000000</td>\n",
       "      <td>1.0</td>\n",
       "      <td>0.0</td>\n",
       "      <td>0.0</td>\n",
       "      <td>0.0</td>\n",
       "      <td>0.0</td>\n",
       "      <td>1.0</td>\n",
       "      <td>0.0</td>\n",
       "      <td>1.0</td>\n",
       "      <td>0.0</td>\n",
       "      <td>1.0</td>\n",
       "      <td>0.0</td>\n",
       "      <td>1.0</td>\n",
       "      <td>0.0</td>\n",
       "      <td>1.0</td>\n",
       "      <td>0.0</td>\n",
       "      <td>1.0</td>\n",
       "    </tr>\n",
       "    <tr>\n",
       "      <th>366</th>\n",
       "      <td>0.836735</td>\n",
       "      <td>0.427640</td>\n",
       "      <td>0.333333</td>\n",
       "      <td>1.0</td>\n",
       "      <td>0.0</td>\n",
       "      <td>1.0</td>\n",
       "      <td>0.0</td>\n",
       "      <td>0.0</td>\n",
       "      <td>0.0</td>\n",
       "      <td>1.0</td>\n",
       "      <td>0.0</td>\n",
       "      <td>0.0</td>\n",
       "      <td>1.0</td>\n",
       "      <td>1.0</td>\n",
       "      <td>0.0</td>\n",
       "      <td>0.0</td>\n",
       "      <td>1.0</td>\n",
       "      <td>1.0</td>\n",
       "      <td>0.0</td>\n",
       "    </tr>\n",
       "    <tr>\n",
       "      <th>131</th>\n",
       "      <td>0.877551</td>\n",
       "      <td>0.629695</td>\n",
       "      <td>1.000000</td>\n",
       "      <td>0.0</td>\n",
       "      <td>1.0</td>\n",
       "      <td>0.0</td>\n",
       "      <td>1.0</td>\n",
       "      <td>0.0</td>\n",
       "      <td>0.0</td>\n",
       "      <td>0.0</td>\n",
       "      <td>1.0</td>\n",
       "      <td>1.0</td>\n",
       "      <td>0.0</td>\n",
       "      <td>0.0</td>\n",
       "      <td>1.0</td>\n",
       "      <td>0.0</td>\n",
       "      <td>1.0</td>\n",
       "      <td>0.0</td>\n",
       "      <td>1.0</td>\n",
       "    </tr>\n",
       "    <tr>\n",
       "      <th>448</th>\n",
       "      <td>0.714286</td>\n",
       "      <td>0.756375</td>\n",
       "      <td>1.000000</td>\n",
       "      <td>0.0</td>\n",
       "      <td>1.0</td>\n",
       "      <td>0.0</td>\n",
       "      <td>1.0</td>\n",
       "      <td>0.0</td>\n",
       "      <td>0.0</td>\n",
       "      <td>0.0</td>\n",
       "      <td>1.0</td>\n",
       "      <td>0.0</td>\n",
       "      <td>1.0</td>\n",
       "      <td>0.0</td>\n",
       "      <td>1.0</td>\n",
       "      <td>1.0</td>\n",
       "      <td>0.0</td>\n",
       "      <td>1.0</td>\n",
       "      <td>0.0</td>\n",
       "    </tr>\n",
       "    <tr>\n",
       "      <th>337</th>\n",
       "      <td>0.959184</td>\n",
       "      <td>0.568978</td>\n",
       "      <td>0.333333</td>\n",
       "      <td>0.0</td>\n",
       "      <td>1.0</td>\n",
       "      <td>1.0</td>\n",
       "      <td>0.0</td>\n",
       "      <td>0.0</td>\n",
       "      <td>0.0</td>\n",
       "      <td>0.0</td>\n",
       "      <td>1.0</td>\n",
       "      <td>0.0</td>\n",
       "      <td>1.0</td>\n",
       "      <td>0.0</td>\n",
       "      <td>1.0</td>\n",
       "      <td>1.0</td>\n",
       "      <td>0.0</td>\n",
       "      <td>0.0</td>\n",
       "      <td>1.0</td>\n",
       "    </tr>\n",
       "  </tbody>\n",
       "</table>\n",
       "</div>"
      ],
      "text/plain": [
       "          age    income  children  gender_FEMALE  gender_MALE  \\\n",
       "456  0.285714  0.142016  0.000000            1.0          0.0   \n",
       "366  0.836735  0.427640  0.333333            1.0          0.0   \n",
       "131  0.877551  0.629695  1.000000            0.0          1.0   \n",
       "448  0.714286  0.756375  1.000000            0.0          1.0   \n",
       "337  0.959184  0.568978  0.333333            0.0          1.0   \n",
       "\n",
       "     region_INNER_CITY  region_RURAL  region_SUBURBAN  region_TOWN  \\\n",
       "456                0.0           0.0              0.0          1.0   \n",
       "366                1.0           0.0              0.0          0.0   \n",
       "131                0.0           1.0              0.0          0.0   \n",
       "448                0.0           1.0              0.0          0.0   \n",
       "337                1.0           0.0              0.0          0.0   \n",
       "\n",
       "     married_NO  married_YES  car_NO  car_YES  savings_acct_NO  \\\n",
       "456         0.0          1.0     0.0      1.0              0.0   \n",
       "366         1.0          0.0     0.0      1.0              1.0   \n",
       "131         0.0          1.0     1.0      0.0              0.0   \n",
       "448         0.0          1.0     0.0      1.0              0.0   \n",
       "337         0.0          1.0     0.0      1.0              0.0   \n",
       "\n",
       "     savings_acct_YES  current_acct_NO  current_acct_YES  mortgage_NO  \\\n",
       "456               1.0              0.0               1.0          0.0   \n",
       "366               0.0              0.0               1.0          1.0   \n",
       "131               1.0              0.0               1.0          0.0   \n",
       "448               1.0              1.0               0.0          1.0   \n",
       "337               1.0              1.0               0.0          0.0   \n",
       "\n",
       "     mortgage_YES  \n",
       "456           1.0  \n",
       "366           0.0  \n",
       "131           1.0  \n",
       "448           0.0  \n",
       "337           1.0  "
      ]
     },
     "execution_count": 30,
     "metadata": {},
     "output_type": "execute_result"
    }
   ],
   "source": [
    "### split the transformed data into training and test sets (using 80%-20% randomized split)\n",
    "from sklearn.cross_validation import train_test_split\n",
    "X_train, X_test, y_train, y_test = train_test_split(df_new, df_labels, test_size=0.2, random_state=33)\n",
    "print (X_train.shape, X_test.shape)\n",
    "X_test[0:5]"
   ]
  },
  {
   "cell_type": "markdown",
   "metadata": {},
   "source": [
    "#### 2.b Run scikit-learn's KNN classifier on the test set. Note: in the case of KNN, you must first normalize the data so that all attributes are in the same scale (normalize so that the values are between 0 and 1). Generate the confusion matrix (visualize it using Matplotlib), as well as the classification report. Also, computing the average accuracy score. Experiment with different values of K and the weight parameter for KNN to see if you can improve accuracy (you do not need to provide the details of all of your experimentation, but provide a short discussion what parameters worked best)."
   ]
  },
  {
   "cell_type": "code",
   "execution_count": 31,
   "metadata": {
    "collapsed": true
   },
   "outputs": [],
   "source": [
    "from sklearn import neighbors, tree, naive_bayes\n",
    "n_neighbors = 5\n",
    "knnclf = neighbors.KNeighborsClassifier(n_neighbors, weights='distance')\n",
    "knnclf.fit(X_train, y_train)\n",
    "knnpreds_test = knnclf.predict(X_test)"
   ]
  },
  {
   "cell_type": "code",
   "execution_count": 32,
   "metadata": {
    "collapsed": false
   },
   "outputs": [
    {
     "data": {
      "text/plain": [
       "0.67"
      ]
     },
     "execution_count": 32,
     "metadata": {},
     "output_type": "execute_result"
    }
   ],
   "source": [
    "### Compute Average Accuracy Score\n",
    "round(accuracy(knnpreds_test, y_test),2)"
   ]
  },
  {
   "cell_type": "code",
   "execution_count": 33,
   "metadata": {
    "collapsed": false
   },
   "outputs": [
    {
     "name": "stdout",
     "output_type": "stream",
     "text": [
      "             precision    recall  f1-score   support\n",
      "\n",
      "         NO       0.68      0.74      0.71        66\n",
      "        YES       0.65      0.57      0.61        54\n",
      "\n",
      "avg / total       0.66      0.67      0.66       120\n",
      "\n"
     ]
    }
   ],
   "source": [
    "### Generate Classification Report\n",
    "from sklearn.metrics import classification_report\n",
    "print(classification_report(y_test, knnpreds_test))"
   ]
  },
  {
   "cell_type": "code",
   "execution_count": 34,
   "metadata": {
    "collapsed": false
   },
   "outputs": [
    {
     "name": "stdout",
     "output_type": "stream",
     "text": [
      "[[49 17]\n",
      " [23 31]]\n"
     ]
    }
   ],
   "source": [
    "### Generate Confusion Matrix\n",
    "from sklearn.metrics import confusion_matrix\n",
    "knncm = confusion_matrix(y_test, knnpreds_test)\n",
    "print(knncm)"
   ]
  },
  {
   "cell_type": "code",
   "execution_count": 35,
   "metadata": {
    "collapsed": false
   },
   "outputs": [
    {
     "data": {
      "image/png": "[encoded data removed]",
      "text/plain": [
       "<matplotlib.figure.Figure at 0x984d4a8>"
      ]
     },
     "metadata": {},
     "output_type": "display_data"
    }
   ],
   "source": [
    "### Plot Confusion Matrix\n",
    "plt.matshow(knncm)\n",
    "plt.title('Confusion matrix')\n",
    "plt.colorbar()\n",
    "plt.ylabel('Actual')\n",
    "plt.xlabel('Predicted')\n",
    "plt.show()"
   ]
  },
  {
   "cell_type": "code",
   "execution_count": 36,
   "metadata": {
    "collapsed": false
   },
   "outputs": [],
   "source": [
    "### K = 0~20, weights = 'distance'\n",
    "acc_train = []\n",
    "acc_test = []\n",
    "for i in range(1,20):\n",
    "    knnclf = neighbors.KNeighborsClassifier(i, weights='distance')\n",
    "    knnclf.fit(X_train, y_train)\n",
    "    knnpreds_train = knnclf.predict(X_train)\n",
    "    knnpreds_test = knnclf.predict(X_test)\n",
    "    acc_train.append(accuracy(knnpreds_train, y_train))\n",
    "    acc_test.append(accuracy(knnpreds_test, y_test))"
   ]
  },
  {
   "cell_type": "code",
   "execution_count": 37,
   "metadata": {
    "collapsed": false
   },
   "outputs": [
    {
     "data": {
      "image/png": "[encoded data removed]",
      "text/plain": [
       "<matplotlib.figure.Figure at 0x13f1c5c0>"
      ]
     },
     "metadata": {},
     "output_type": "display_data"
    }
   ],
   "source": [
    "K=list(range(1,20))\n",
    "#plt.plot(K, acc_train, 'ro', label='Train Accuracy')\n",
    "plt.plot(K, acc_test, 'bs', label='Test Accuracy')\n",
    "plt.xlabel('K')\n",
    "plt.ylabel('Accuracy')\n",
    "plt.title('knn Accuracy using weights = distance')\n",
    "plt.legend(loc='center right')\n",
    "plt.grid(True)\n",
    "plt.legend(loc='center left', bbox_to_anchor=(1, 0.5))\n",
    "plt.show()"
   ]
  },
  {
   "cell_type": "code",
   "execution_count": 38,
   "metadata": {
    "collapsed": true
   },
   "outputs": [],
   "source": [
    "### weights = 'uniform' \n",
    "acc_train = []\n",
    "acc_test = []\n",
    "for i in range(1,20):\n",
    "    knnclf = neighbors.KNeighborsClassifier(i, weights='uniform')\n",
    "    knnclf.fit(X_train, y_train)\n",
    "    knnpreds_train = knnclf.predict(X_train)\n",
    "    knnpreds_test = knnclf.predict(X_test)\n",
    "    acc_train.append(accuracy(knnpreds_train, y_train))\n",
    "    acc_test.append(accuracy(knnpreds_test, y_test))"
   ]
  },
  {
   "cell_type": "code",
   "execution_count": 39,
   "metadata": {
    "collapsed": false
   },
   "outputs": [
    {
     "data": {
      "image/png": "[encoded data removed]",
      "text/plain": [
       "<matplotlib.figure.Figure at 0x13f33cf8>"
      ]
     },
     "metadata": {},
     "output_type": "display_data"
    }
   ],
   "source": [
    "K=list(range(1,20))\n",
    "#plt.plot(K, acc_train, 'ro', label='Train Accuracy')\n",
    "plt.plot(K, acc_test, 'ro', label='Test Accuracy')\n",
    "plt.xlabel('K')\n",
    "plt.ylabel('Accuracy')\n",
    "plt.title('knn Accuracy using weights = uniform')\n",
    "plt.legend(loc='center right')\n",
    "plt.grid(True)\n",
    "plt.legend(loc='center left', bbox_to_anchor=(1, 0.5))\n",
    "plt.show()"
   ]
  },
  {
   "cell_type": "markdown",
   "metadata": {},
   "source": [
    "#### Conclusion: I tried both \"distance\" and \"uniform\" for the weights and different Ks. It turns out the accuracy is highest for both when K = 18. And as we can see form the plot above, the average accuracy is around 66%."
   ]
  },
  {
   "cell_type": "markdown",
   "metadata": {},
   "source": [
    "#### 2.c Repeat the classification using scikit-learn's decision tree classifier (using the default parameters) and the naive Bayes (Gaussian) classifier. As above, generate the confusion matrix, classification report, and average accuracy score for each classifier. For each model, compare the average accuracry scores on the test and the training data sets. What does the comparison tell you in terms of bias-variance trade-off?"
   ]
  },
  {
   "cell_type": "markdown",
   "metadata": {},
   "source": [
    "##### Decision Tree Classifier"
   ]
  },
  {
   "cell_type": "code",
   "execution_count": 40,
   "metadata": {
    "collapsed": false
   },
   "outputs": [],
   "source": [
    "DTclf = tree.DecisionTreeClassifier()\n",
    "DTclf = DTclf.fit(X_train, y_train)\n",
    "DTpreds_train = DTclf.predict(X_train)\n",
    "DTpreds_test = DTclf.predict(X_test)"
   ]
  },
  {
   "cell_type": "code",
   "execution_count": 41,
   "metadata": {
    "collapsed": false
   },
   "outputs": [
    {
     "name": "stdout",
     "output_type": "stream",
     "text": [
      "Training Accuracy is 1.0\n",
      "Testing Accuracy is 0.8166666666666667\n"
     ]
    }
   ],
   "source": [
    "### Compare Accuracy Between Training Set and Testing Set\n",
    "print (\"Training Accuracy is \" + str(accuracy(DTpreds_train, y_train)))\n",
    "print (\"Testing Accuracy is \" + str(accuracy(DTpreds_test, y_test)))"
   ]
  },
  {
   "cell_type": "code",
   "execution_count": 42,
   "metadata": {
    "collapsed": false
   },
   "outputs": [
    {
     "name": "stdout",
     "output_type": "stream",
     "text": [
      "             precision    recall  f1-score   support\n",
      "\n",
      "         NO       0.81      0.86      0.84        66\n",
      "        YES       0.82      0.76      0.79        54\n",
      "\n",
      "avg / total       0.82      0.82      0.82       120\n",
      "\n"
     ]
    }
   ],
   "source": [
    "### Generate Classification Report\n",
    "print(classification_report(y_test, DTpreds_test))"
   ]
  },
  {
   "cell_type": "code",
   "execution_count": 43,
   "metadata": {
    "collapsed": false
   },
   "outputs": [
    {
     "name": "stdout",
     "output_type": "stream",
     "text": [
      "[[57  9]\n",
      " [13 41]]\n"
     ]
    }
   ],
   "source": [
    "### Generate Confusion Matrix\n",
    "DTcm = confusion_matrix(y_test, DTpreds_test)\n",
    "print(DTcm)"
   ]
  },
  {
   "cell_type": "code",
   "execution_count": 44,
   "metadata": {
    "collapsed": false
   },
   "outputs": [
    {
     "data": {
      "image/png": "[encoded data removed]",
      "text/plain": [
       "<matplotlib.figure.Figure at 0x13f36908>"
      ]
     },
     "metadata": {},
     "output_type": "display_data"
    }
   ],
   "source": [
    "### Plot Confusion Matrix\n",
    "plt.matshow(DTcm)\n",
    "plt.title('Confusion matrix of Decision Tree')\n",
    "plt.colorbar()\n",
    "plt.ylabel('Actual')\n",
    "plt.xlabel('Predicted')\n",
    "plt.show()"
   ]
  },
  {
   "cell_type": "markdown",
   "metadata": {},
   "source": [
    "##### Naive Bayes (Gaussian) Classifier"
   ]
  },
  {
   "cell_type": "code",
   "execution_count": 45,
   "metadata": {
    "collapsed": true
   },
   "outputs": [],
   "source": [
    "from sklearn.naive_bayes import GaussianNB\n",
    "NBclf = GaussianNB()\n",
    "NBclf.fit(X_train, y_train)\n",
    "NBpreds_train = NBclf.predict(X_train)\n",
    "NBpreds_test = NBclf.predict(X_test)"
   ]
  },
  {
   "cell_type": "code",
   "execution_count": 46,
   "metadata": {
    "collapsed": false
   },
   "outputs": [
    {
     "name": "stdout",
     "output_type": "stream",
     "text": [
      "Training Accuracy is 0.6708333333333333\n",
      "Testing Accuracy is 0.5916666666666667\n"
     ]
    }
   ],
   "source": [
    "### Compare Accuracy Between Training Set and Testing Set\n",
    "print (\"Training Accuracy is \" + str(accuracy(NBpreds_train, y_train)))\n",
    "print (\"Testing Accuracy is \" + str(accuracy(NBpreds_test , y_test)))"
   ]
  },
  {
   "cell_type": "code",
   "execution_count": 47,
   "metadata": {
    "collapsed": false
   },
   "outputs": [
    {
     "name": "stdout",
     "output_type": "stream",
     "text": [
      "             precision    recall  f1-score   support\n",
      "\n",
      "         NO       0.62      0.68      0.65        66\n",
      "        YES       0.55      0.48      0.51        54\n",
      "\n",
      "avg / total       0.59      0.59      0.59       120\n",
      "\n"
     ]
    }
   ],
   "source": [
    "### Generate Classification Report\n",
    "print(classification_report(y_test, NBpreds_test))"
   ]
  },
  {
   "cell_type": "code",
   "execution_count": 48,
   "metadata": {
    "collapsed": false
   },
   "outputs": [
    {
     "name": "stdout",
     "output_type": "stream",
     "text": [
      "[[45 21]\n",
      " [28 26]]\n"
     ]
    }
   ],
   "source": [
    "### Generate Confusion Matrix\n",
    "NBcm = confusion_matrix(y_test, NBpreds_test)\n",
    "print(NBcm)"
   ]
  },
  {
   "cell_type": "code",
   "execution_count": 49,
   "metadata": {
    "collapsed": false
   },
   "outputs": [
    {
     "data": {
      "image/png": "[encoded data removed]",
      "text/plain": [
       "<matplotlib.figure.Figure at 0xbb53390>"
      ]
     },
     "metadata": {},
     "output_type": "display_data"
    }
   ],
   "source": [
    "### Plot Confusion Matrix\n",
    "plt.matshow(NBcm)\n",
    "plt.title('Confusion matrix of Naive Bayes')\n",
    "plt.colorbar()\n",
    "plt.ylabel('Actual')\n",
    "plt.xlabel('Predicted')\n",
    "plt.show()"
   ]
  },
  {
   "cell_type": "markdown",
   "metadata": {},
   "source": [
    "##### Conclusion: \n",
    "            The decision tree model is of high variance as it's a greedy algorithm that the training accuracy is equal to 100%. The testing accuracy is around 82.5%, which is reasonably high. So I will suggest to add more data or simplify the model a little bid to see if I can acquire a better accuracy.\n",
    "            The NB model is of high bias as its training accuracy and testing accuracy are very close and relatively low. I will suggest to use more features or use more complex models(more parameters)."
   ]
  },
  {
   "cell_type": "markdown",
   "metadata": {},
   "source": [
    "#### 2.d Discuss your observations based on the above experiments."
   ]
  },
  {
   "cell_type": "markdown",
   "metadata": {
    "collapsed": true
   },
   "source": [
    "    First, the decision tree model scored highest (without tuning parameters for each model). I believe the reason is the data has more categorical variables than numerical ones. But I think I need to check the problem of overfitting using cross-validation.\n",
    "    Second, the KNN model has an average accuracy around 67%, about 15% lower than the decision tree model. I think the result will be improved once I add some complexity to it as KNN itself is a lazy learner.\n",
    "    Last, the NB model scored poorly, which is only 59%. "
   ]
  },
  {
   "cell_type": "markdown",
   "metadata": {},
   "source": [
    "### 3. Data Analysis and Predictive Modeling on Census data [Dataset: adult-modified.csv]\n",
    "    For this problem you will use a simplified version of the Adult Census Data Set. In the subset provided here, some of the attributes have been removed and some preprocessing has been performed.Your tasks in this problem are the following:"
   ]
  },
  {
   "cell_type": "markdown",
   "metadata": {},
   "source": [
    "#### 3.a \n",
    "    i.Examine the data for missing values. In case of categorical attributes, remove instances with missing values. In the case of numeric attributes, impute and fill-in the missing values using the attribute mean."
   ]
  },
  {
   "cell_type": "code",
   "execution_count": 50,
   "metadata": {
    "collapsed": false
   },
   "outputs": [
    {
     "data": {
      "text/html": [
       "<div>\n",
       "<table border=\"1\" class=\"dataframe\">\n",
       "  <thead>\n",
       "    <tr style=\"text-align: right;\">\n",
       "      <th></th>\n",
       "      <th>age</th>\n",
       "      <th>workclass</th>\n",
       "      <th>education</th>\n",
       "      <th>marital-status</th>\n",
       "      <th>race</th>\n",
       "      <th>sex</th>\n",
       "      <th>hours-per-week</th>\n",
       "      <th>income</th>\n",
       "    </tr>\n",
       "  </thead>\n",
       "  <tbody>\n",
       "    <tr>\n",
       "      <th>0</th>\n",
       "      <td>39.0</td>\n",
       "      <td>Public</td>\n",
       "      <td>13</td>\n",
       "      <td>Single</td>\n",
       "      <td>White</td>\n",
       "      <td>Male</td>\n",
       "      <td>40</td>\n",
       "      <td>&lt;=50K</td>\n",
       "    </tr>\n",
       "    <tr>\n",
       "      <th>1</th>\n",
       "      <td>50.0</td>\n",
       "      <td>Self-emp</td>\n",
       "      <td>13</td>\n",
       "      <td>Married</td>\n",
       "      <td>White</td>\n",
       "      <td>Male</td>\n",
       "      <td>13</td>\n",
       "      <td>&lt;=50K</td>\n",
       "    </tr>\n",
       "    <tr>\n",
       "      <th>2</th>\n",
       "      <td>38.0</td>\n",
       "      <td>Private</td>\n",
       "      <td>9</td>\n",
       "      <td>Single</td>\n",
       "      <td>White</td>\n",
       "      <td>Male</td>\n",
       "      <td>40</td>\n",
       "      <td>&lt;=50K</td>\n",
       "    </tr>\n",
       "    <tr>\n",
       "      <th>3</th>\n",
       "      <td>53.0</td>\n",
       "      <td>Private</td>\n",
       "      <td>7</td>\n",
       "      <td>Married</td>\n",
       "      <td>Black</td>\n",
       "      <td>Male</td>\n",
       "      <td>40</td>\n",
       "      <td>&lt;=50K</td>\n",
       "    </tr>\n",
       "    <tr>\n",
       "      <th>4</th>\n",
       "      <td>28.0</td>\n",
       "      <td>Private</td>\n",
       "      <td>13</td>\n",
       "      <td>Married</td>\n",
       "      <td>Black</td>\n",
       "      <td>Female</td>\n",
       "      <td>40</td>\n",
       "      <td>&lt;=50K</td>\n",
       "    </tr>\n",
       "  </tbody>\n",
       "</table>\n",
       "</div>"
      ],
      "text/plain": [
       "    age workclass  education marital-status   race     sex  hours-per-week  \\\n",
       "0  39.0    Public         13         Single  White    Male              40   \n",
       "1  50.0  Self-emp         13        Married  White    Male              13   \n",
       "2  38.0   Private          9         Single  White    Male              40   \n",
       "3  53.0   Private          7        Married  Black    Male              40   \n",
       "4  28.0   Private         13        Married  Black  Female              40   \n",
       "\n",
       "  income  \n",
       "0  <=50K  \n",
       "1  <=50K  \n",
       "2  <=50K  \n",
       "3  <=50K  \n",
       "4  <=50K  "
      ]
     },
     "execution_count": 50,
     "metadata": {},
     "output_type": "execute_result"
    }
   ],
   "source": [
    "### Read The File\n",
    "### Use na_values='?' to catch all missing values\n",
    "df=pd.read_csv(\"adult-modified.csv\", sep=',', na_values='?') \n",
    "df.head()"
   ]
  },
  {
   "cell_type": "code",
   "execution_count": 51,
   "metadata": {
    "collapsed": false
   },
   "outputs": [
    {
     "name": "stdout",
     "output_type": "stream",
     "text": [
      "<class 'pandas.core.frame.DataFrame'>\n",
      "RangeIndex: 10000 entries, 0 to 9999\n",
      "Data columns (total 8 columns):\n",
      "age               9802 non-null float64\n",
      "workclass         9412 non-null object\n",
      "education         10000 non-null int64\n",
      "marital-status    10000 non-null object\n",
      "race              10000 non-null object\n",
      "sex               10000 non-null object\n",
      "hours-per-week    10000 non-null int64\n",
      "income            10000 non-null object\n",
      "dtypes: float64(1), int64(2), object(5)\n",
      "memory usage: 625.1+ KB\n"
     ]
    }
   ],
   "source": [
    "### Check Missing Values\n",
    "df.info()"
   ]
  },
  {
   "cell_type": "code",
   "execution_count": 52,
   "metadata": {
    "collapsed": false
   },
   "outputs": [
    {
     "name": "stdout",
     "output_type": "stream",
     "text": [
      "<class 'pandas.core.frame.DataFrame'>\n",
      "RangeIndex: 10000 entries, 0 to 9999\n",
      "Data columns (total 8 columns):\n",
      "age               10000 non-null float64\n",
      "workclass         9412 non-null object\n",
      "education         10000 non-null int64\n",
      "marital-status    10000 non-null object\n",
      "race              10000 non-null object\n",
      "sex               10000 non-null object\n",
      "hours-per-week    10000 non-null int64\n",
      "income            10000 non-null object\n",
      "dtypes: float64(1), int64(2), object(5)\n",
      "memory usage: 625.1+ KB\n"
     ]
    }
   ],
   "source": [
    "### Fill in Missing Values for Age\n",
    "df.age.fillna(df.age.mean(), axis=0, inplace=True)\n",
    "df.info()"
   ]
  },
  {
   "cell_type": "code",
   "execution_count": 53,
   "metadata": {
    "collapsed": false
   },
   "outputs": [
    {
     "data": {
      "text/plain": [
       "(9412, 8)"
      ]
     },
     "execution_count": 53,
     "metadata": {},
     "output_type": "execute_result"
    }
   ],
   "source": [
    "### Removing Instances with NULL Values in \"workclass\"\n",
    "df.dropna(axis=0, inplace=True)\n",
    "df.shape"
   ]
  },
  {
   "cell_type": "markdown",
   "metadata": {},
   "source": [
    "\n",
    "    ii. Examine the characteristics of the attributes, including relevant statistics for each attribute, histograms illustrating the distribtions of numeric attributes, bar graphs showing value counts for categorical attributes, etc."
   ]
  },
  {
   "cell_type": "code",
   "execution_count": 54,
   "metadata": {
    "collapsed": false
   },
   "outputs": [
    {
     "name": "stdout",
     "output_type": "stream",
     "text": [
      "<class 'pandas.core.frame.DataFrame'>\n",
      "Int64Index: 9412 entries, 0 to 9999\n",
      "Data columns (total 8 columns):\n",
      "age               9412 non-null float64\n",
      "workclass         9412 non-null object\n",
      "education         9412 non-null int64\n",
      "marital-status    9412 non-null object\n",
      "race              9412 non-null object\n",
      "sex               9412 non-null object\n",
      "hours-per-week    9412 non-null int64\n",
      "income            9412 non-null object\n",
      "dtypes: float64(1), int64(2), object(5)\n",
      "memory usage: 661.8+ KB\n"
     ]
    }
   ],
   "source": [
    "### Statistics for Numerical Data\n",
    "df.info()"
   ]
  },
  {
   "cell_type": "code",
   "execution_count": 55,
   "metadata": {
    "collapsed": false
   },
   "outputs": [
    {
     "data": {
      "text/plain": [
       "<matplotlib.axes._subplots.AxesSubplot at 0x1409c320>"
      ]
     },
     "execution_count": 55,
     "metadata": {},
     "output_type": "execute_result"
    },
    {
     "data": {
      "image/png": "[encoded data removed]",
      "text/plain": [
       "<matplotlib.figure.Figure at 0x13ff6898>"
      ]
     },
     "metadata": {},
     "output_type": "display_data"
    }
   ],
   "source": [
    "### Age Distribution\n",
    "df[\"age\"].plot(kind=\"hist\")"
   ]
  },
  {
   "cell_type": "code",
   "execution_count": 56,
   "metadata": {
    "collapsed": false
   },
   "outputs": [
    {
     "data": {
      "text/plain": [
       "<matplotlib.axes._subplots.AxesSubplot at 0x14b221d0>"
      ]
     },
     "execution_count": 56,
     "metadata": {},
     "output_type": "execute_result"
    },
    {
     "data": {
      "image/png": "[encoded data removed]",
      "text/plain": [
       "<matplotlib.figure.Figure at 0x14b28358>"
      ]
     },
     "metadata": {},
     "output_type": "display_data"
    }
   ],
   "source": [
    "### Education Distribution\n",
    "df[\"education\"].plot(kind=\"hist\")"
   ]
  },
  {
   "cell_type": "code",
   "execution_count": 57,
   "metadata": {
    "collapsed": false
   },
   "outputs": [
    {
     "data": {
      "text/plain": [
       "<matplotlib.axes._subplots.AxesSubplot at 0x14b40cf8>"
      ]
     },
     "execution_count": 57,
     "metadata": {},
     "output_type": "execute_result"
    },
    {
     "data": {
      "image/png": "[encoded data removed]",
      "text/plain": [
       "<matplotlib.figure.Figure at 0x14bacf28>"
      ]
     },
     "metadata": {},
     "output_type": "display_data"
    }
   ],
   "source": [
    "### hours-per-week Distribution\n",
    "df[\"hours-per-week\"].plot(kind=\"hist\")"
   ]
  },
  {
   "cell_type": "code",
   "execution_count": 58,
   "metadata": {
    "collapsed": false
   },
   "outputs": [
    {
     "data": {
      "text/plain": [
       "<matplotlib.axes._subplots.AxesSubplot at 0x13f2e6d8>"
      ]
     },
     "execution_count": 58,
     "metadata": {},
     "output_type": "execute_result"
    },
    {
     "data": {
      "image/png": "[encoded data removed]",
      "text/plain": [
       "<matplotlib.figure.Figure at 0x14b94748>"
      ]
     },
     "metadata": {},
     "output_type": "display_data"
    }
   ],
   "source": [
    "### Show the distributions of values for categorical attributes\n",
    "\n",
    "workclass = df[\"workclass\"].value_counts()/df[\"workclass\"].count()\n",
    "marital_status = df[\"marital-status\"].value_counts()/df[\"marital-status\"].count()\n",
    "race = df[\"race\"].value_counts()/df[\"race\"].count()\n",
    "sex = df[\"sex\"].value_counts()/df[\"sex\"].count()\n",
    "\n",
    "fig = plt.figure(figsize=(11,11))\n",
    "ax1 = fig.add_subplot(221)\n",
    "#ax1.set_xlabel('Workclass')\n",
    "ax1.set_ylabel('Percentage')\n",
    "ax1.set_title(\"Workclass Distribution\")\n",
    "workclass.plot(kind='bar', grid = True)\n",
    "\n",
    "ax1 = fig.add_subplot(222)\n",
    "#ax1.set_xlabel('Marital status')\n",
    "ax1.set_ylabel('Percentage')\n",
    "ax1.set_title(\"Marital status Distribution\")\n",
    "marital_status.plot(kind='bar', grid = True)\n",
    "\n",
    "ax1 = fig.add_subplot(223)\n",
    "#ax1.set_xlabel('Race')\n",
    "ax1.set_ylabel('Percentage')\n",
    "ax1.set_title(\"Race Distribution\")\n",
    "race.plot(kind='bar', grid = True)\n",
    "\n",
    "ax1 = fig.add_subplot(224)\n",
    "#ax1.set_xlabel('Sex')\n",
    "ax1.set_ylabel('Percentage')\n",
    "ax1.set_title(\"Sex Distribution\")\n",
    "sex.plot(kind='bar', grid = True)"
   ]
  },
  {
   "cell_type": "code",
   "execution_count": 59,
   "metadata": {
    "collapsed": false
   },
   "outputs": [
    {
     "data": {
      "text/plain": [
       "<matplotlib.axes._subplots.AxesSubplot at 0x14bbe5f8>"
      ]
     },
     "execution_count": 59,
     "metadata": {},
     "output_type": "execute_result"
    },
    {
     "data": {
      "image/png": "[encoded data removed]",
      "text/plain": [
       "<matplotlib.figure.Figure at 0x149cb860>"
      ]
     },
     "metadata": {},
     "output_type": "display_data"
    }
   ],
   "source": [
    "### Distribution of the Target Variable\n",
    "income = df[\"income\"].value_counts()/df[\"income\"].count()\n",
    "income.plot(kind='bar', grid = True, alpha=0.9)"
   ]
  },
  {
   "cell_type": "markdown",
   "metadata": {},
   "source": [
    "\n",
    "    iii. Perform the following cross-tabulations (including generating bar charts): education+race, work-class+income, work-class+race, and race+income. In the latter case (race+income) also create a table or chart showing percentages of each race category that fall in the low-income group. Discuss your observations from this analysis."
   ]
  },
  {
   "cell_type": "markdown",
   "metadata": {},
   "source": [
    "###### Education+Race "
   ]
  },
  {
   "cell_type": "code",
   "execution_count": 60,
   "metadata": {
    "collapsed": false
   },
   "outputs": [
    {
     "data": {
      "text/html": [
       "<div>\n",
       "<table border=\"1\" class=\"dataframe\">\n",
       "  <thead>\n",
       "    <tr style=\"text-align: right;\">\n",
       "      <th></th>\n",
       "      <th></th>\n",
       "      <th>education</th>\n",
       "    </tr>\n",
       "    <tr>\n",
       "      <th>race</th>\n",
       "      <th></th>\n",
       "      <th></th>\n",
       "    </tr>\n",
       "  </thead>\n",
       "  <tbody>\n",
       "    <tr>\n",
       "      <th rowspan=\"8\" valign=\"top\">Amer-Indian</th>\n",
       "      <th>count</th>\n",
       "      <td>92.000000</td>\n",
       "    </tr>\n",
       "    <tr>\n",
       "      <th>mean</th>\n",
       "      <td>9.119565</td>\n",
       "    </tr>\n",
       "    <tr>\n",
       "      <th>std</th>\n",
       "      <td>2.026432</td>\n",
       "    </tr>\n",
       "    <tr>\n",
       "      <th>min</th>\n",
       "      <td>4.000000</td>\n",
       "    </tr>\n",
       "    <tr>\n",
       "      <th>25%</th>\n",
       "      <td>9.000000</td>\n",
       "    </tr>\n",
       "    <tr>\n",
       "      <th>50%</th>\n",
       "      <td>9.000000</td>\n",
       "    </tr>\n",
       "    <tr>\n",
       "      <th>75%</th>\n",
       "      <td>10.000000</td>\n",
       "    </tr>\n",
       "    <tr>\n",
       "      <th>max</th>\n",
       "      <td>13.000000</td>\n",
       "    </tr>\n",
       "    <tr>\n",
       "      <th rowspan=\"8\" valign=\"top\">Asian</th>\n",
       "      <th>count</th>\n",
       "      <td>291.000000</td>\n",
       "    </tr>\n",
       "    <tr>\n",
       "      <th>mean</th>\n",
       "      <td>10.941581</td>\n",
       "    </tr>\n",
       "    <tr>\n",
       "      <th>std</th>\n",
       "      <td>2.712682</td>\n",
       "    </tr>\n",
       "    <tr>\n",
       "      <th>min</th>\n",
       "      <td>2.000000</td>\n",
       "    </tr>\n",
       "    <tr>\n",
       "      <th>25%</th>\n",
       "      <td>9.000000</td>\n",
       "    </tr>\n",
       "    <tr>\n",
       "      <th>50%</th>\n",
       "      <td>10.000000</td>\n",
       "    </tr>\n",
       "    <tr>\n",
       "      <th>75%</th>\n",
       "      <td>13.000000</td>\n",
       "    </tr>\n",
       "    <tr>\n",
       "      <th>max</th>\n",
       "      <td>16.000000</td>\n",
       "    </tr>\n",
       "    <tr>\n",
       "      <th rowspan=\"8\" valign=\"top\">Black</th>\n",
       "      <th>count</th>\n",
       "      <td>892.000000</td>\n",
       "    </tr>\n",
       "    <tr>\n",
       "      <th>mean</th>\n",
       "      <td>9.582960</td>\n",
       "    </tr>\n",
       "    <tr>\n",
       "      <th>std</th>\n",
       "      <td>2.226476</td>\n",
       "    </tr>\n",
       "    <tr>\n",
       "      <th>min</th>\n",
       "      <td>1.000000</td>\n",
       "    </tr>\n",
       "    <tr>\n",
       "      <th>25%</th>\n",
       "      <td>9.000000</td>\n",
       "    </tr>\n",
       "    <tr>\n",
       "      <th>50%</th>\n",
       "      <td>9.000000</td>\n",
       "    </tr>\n",
       "    <tr>\n",
       "      <th>75%</th>\n",
       "      <td>10.000000</td>\n",
       "    </tr>\n",
       "    <tr>\n",
       "      <th>max</th>\n",
       "      <td>16.000000</td>\n",
       "    </tr>\n",
       "    <tr>\n",
       "      <th rowspan=\"8\" valign=\"top\">Hispanic</th>\n",
       "      <th>count</th>\n",
       "      <td>75.000000</td>\n",
       "    </tr>\n",
       "    <tr>\n",
       "      <th>mean</th>\n",
       "      <td>8.853333</td>\n",
       "    </tr>\n",
       "    <tr>\n",
       "      <th>std</th>\n",
       "      <td>3.069877</td>\n",
       "    </tr>\n",
       "    <tr>\n",
       "      <th>min</th>\n",
       "      <td>2.000000</td>\n",
       "    </tr>\n",
       "    <tr>\n",
       "      <th>25%</th>\n",
       "      <td>7.000000</td>\n",
       "    </tr>\n",
       "    <tr>\n",
       "      <th>50%</th>\n",
       "      <td>9.000000</td>\n",
       "    </tr>\n",
       "    <tr>\n",
       "      <th>75%</th>\n",
       "      <td>10.000000</td>\n",
       "    </tr>\n",
       "    <tr>\n",
       "      <th>max</th>\n",
       "      <td>15.000000</td>\n",
       "    </tr>\n",
       "    <tr>\n",
       "      <th rowspan=\"8\" valign=\"top\">White</th>\n",
       "      <th>count</th>\n",
       "      <td>8062.000000</td>\n",
       "    </tr>\n",
       "    <tr>\n",
       "      <th>mean</th>\n",
       "      <td>10.179112</td>\n",
       "    </tr>\n",
       "    <tr>\n",
       "      <th>std</th>\n",
       "      <td>2.552060</td>\n",
       "    </tr>\n",
       "    <tr>\n",
       "      <th>min</th>\n",
       "      <td>1.000000</td>\n",
       "    </tr>\n",
       "    <tr>\n",
       "      <th>25%</th>\n",
       "      <td>9.000000</td>\n",
       "    </tr>\n",
       "    <tr>\n",
       "      <th>50%</th>\n",
       "      <td>10.000000</td>\n",
       "    </tr>\n",
       "    <tr>\n",
       "      <th>75%</th>\n",
       "      <td>13.000000</td>\n",
       "    </tr>\n",
       "    <tr>\n",
       "      <th>max</th>\n",
       "      <td>16.000000</td>\n",
       "    </tr>\n",
       "  </tbody>\n",
       "</table>\n",
       "</div>"
      ],
      "text/plain": [
       "                     education\n",
       "race                          \n",
       "Amer-Indian count    92.000000\n",
       "            mean      9.119565\n",
       "            std       2.026432\n",
       "            min       4.000000\n",
       "            25%       9.000000\n",
       "            50%       9.000000\n",
       "            75%      10.000000\n",
       "            max      13.000000\n",
       "Asian       count   291.000000\n",
       "            mean     10.941581\n",
       "            std       2.712682\n",
       "            min       2.000000\n",
       "            25%       9.000000\n",
       "            50%      10.000000\n",
       "            75%      13.000000\n",
       "            max      16.000000\n",
       "Black       count   892.000000\n",
       "            mean      9.582960\n",
       "            std       2.226476\n",
       "            min       1.000000\n",
       "            25%       9.000000\n",
       "            50%       9.000000\n",
       "            75%      10.000000\n",
       "            max      16.000000\n",
       "Hispanic    count    75.000000\n",
       "            mean      8.853333\n",
       "            std       3.069877\n",
       "            min       2.000000\n",
       "            25%       7.000000\n",
       "            50%       9.000000\n",
       "            75%      10.000000\n",
       "            max      15.000000\n",
       "White       count  8062.000000\n",
       "            mean     10.179112\n",
       "            std       2.552060\n",
       "            min       1.000000\n",
       "            25%       9.000000\n",
       "            50%      10.000000\n",
       "            75%      13.000000\n",
       "            max      16.000000"
      ]
     },
     "execution_count": 60,
     "metadata": {},
     "output_type": "execute_result"
    }
   ],
   "source": [
    "df[[\"education\",\"race\"]].groupby(\"race\").describe()"
   ]
  },
  {
   "cell_type": "code",
   "execution_count": 61,
   "metadata": {
    "collapsed": false
   },
   "outputs": [
    {
     "data": {
      "image/png": "[encoded data removed]",
      "text/plain": [
       "<matplotlib.figure.Figure at 0x14bc1b00>"
      ]
     },
     "metadata": {},
     "output_type": "display_data"
    }
   ],
   "source": [
    "fig = plt.figure()\n",
    "ax = fig.add_subplot(111)\n",
    "\n",
    "x1 = df[[\"education\",\"race\"]][df[\"race\"]==\"Amer-Indian\"][\"education\"]\n",
    "x2 = df[[\"education\",\"race\"]][df[\"race\"]==\"Asian\"][\"education\"]\n",
    "x3 = df[[\"education\",\"race\"]][df[\"race\"]==\"Black\"][\"education\"]\n",
    "x4 = df[[\"education\",\"race\"]][df[\"race\"]==\"Hispanic\"][\"education\"]\n",
    "x5 = df[[\"education\",\"race\"]][df[\"race\"]==\"White\"][\"education\"]\n",
    "\n",
    "names = [\"Amer-Indian\",\"Asian\",\"Black\",\"Hispanic\",\"White\"]\n",
    "ax.boxplot([x1,x2,x3,x4,x5], labels = names)\n",
    "plt.show()"
   ]
  },
  {
   "cell_type": "markdown",
   "metadata": {},
   "source": [
    "###### work-class+income"
   ]
  },
  {
   "cell_type": "code",
   "execution_count": 62,
   "metadata": {
    "collapsed": false
   },
   "outputs": [
    {
     "data": {
      "text/html": [
       "<div>\n",
       "<table border=\"1\" class=\"dataframe\">\n",
       "  <thead>\n",
       "    <tr style=\"text-align: right;\">\n",
       "      <th>income</th>\n",
       "      <th>&lt;=50K</th>\n",
       "      <th>&gt;50K</th>\n",
       "    </tr>\n",
       "    <tr>\n",
       "      <th>workclass</th>\n",
       "      <th></th>\n",
       "      <th></th>\n",
       "    </tr>\n",
       "  </thead>\n",
       "  <tbody>\n",
       "    <tr>\n",
       "      <th>Private</th>\n",
       "      <td>5443</td>\n",
       "      <td>1504</td>\n",
       "    </tr>\n",
       "    <tr>\n",
       "      <th>Public</th>\n",
       "      <td>925</td>\n",
       "      <td>392</td>\n",
       "    </tr>\n",
       "    <tr>\n",
       "      <th>Self-emp</th>\n",
       "      <td>725</td>\n",
       "      <td>423</td>\n",
       "    </tr>\n",
       "  </tbody>\n",
       "</table>\n",
       "</div>"
      ],
      "text/plain": [
       "income     <=50K  >50K\n",
       "workclass             \n",
       "Private     5443  1504\n",
       "Public       925   392\n",
       "Self-emp     725   423"
      ]
     },
     "execution_count": 62,
     "metadata": {},
     "output_type": "execute_result"
    }
   ],
   "source": [
    "pd.crosstab(df[\"workclass\"], df[\"income\"])"
   ]
  },
  {
   "cell_type": "code",
   "execution_count": 63,
   "metadata": {
    "collapsed": false
   },
   "outputs": [
    {
     "data": {
      "text/plain": [
       "<matplotlib.axes._subplots.AxesSubplot at 0x982bd68>"
      ]
     },
     "execution_count": 63,
     "metadata": {},
     "output_type": "execute_result"
    },
    {
     "data": {
      "image/png": "[encoded data removed]",
      "text/plain": [
       "<matplotlib.figure.Figure at 0x13f2ab00>"
      ]
     },
     "metadata": {},
     "output_type": "display_data"
    }
   ],
   "source": [
    "pd.crosstab(df[\"workclass\"], df[\"income\"]).plot(kind=\"bar\")"
   ]
  },
  {
   "cell_type": "markdown",
   "metadata": {},
   "source": [
    "#####  work-class+race"
   ]
  },
  {
   "cell_type": "code",
   "execution_count": 64,
   "metadata": {
    "collapsed": false
   },
   "outputs": [
    {
     "data": {
      "text/html": [
       "<div>\n",
       "<table border=\"1\" class=\"dataframe\">\n",
       "  <thead>\n",
       "    <tr style=\"text-align: right;\">\n",
       "      <th>race</th>\n",
       "      <th>Amer-Indian</th>\n",
       "      <th>Asian</th>\n",
       "      <th>Black</th>\n",
       "      <th>Hispanic</th>\n",
       "      <th>White</th>\n",
       "    </tr>\n",
       "    <tr>\n",
       "      <th>workclass</th>\n",
       "      <th></th>\n",
       "      <th></th>\n",
       "      <th></th>\n",
       "      <th></th>\n",
       "      <th></th>\n",
       "    </tr>\n",
       "  </thead>\n",
       "  <tbody>\n",
       "    <tr>\n",
       "      <th>Private</th>\n",
       "      <td>65</td>\n",
       "      <td>204</td>\n",
       "      <td>664</td>\n",
       "      <td>64</td>\n",
       "      <td>5950</td>\n",
       "    </tr>\n",
       "    <tr>\n",
       "      <th>Public</th>\n",
       "      <td>20</td>\n",
       "      <td>48</td>\n",
       "      <td>192</td>\n",
       "      <td>5</td>\n",
       "      <td>1052</td>\n",
       "    </tr>\n",
       "    <tr>\n",
       "      <th>Self-emp</th>\n",
       "      <td>7</td>\n",
       "      <td>39</td>\n",
       "      <td>36</td>\n",
       "      <td>6</td>\n",
       "      <td>1060</td>\n",
       "    </tr>\n",
       "  </tbody>\n",
       "</table>\n",
       "</div>"
      ],
      "text/plain": [
       "race       Amer-Indian  Asian  Black  Hispanic  White\n",
       "workclass                                            \n",
       "Private             65    204    664        64   5950\n",
       "Public              20     48    192         5   1052\n",
       "Self-emp             7     39     36         6   1060"
      ]
     },
     "execution_count": 64,
     "metadata": {},
     "output_type": "execute_result"
    }
   ],
   "source": [
    "pd.crosstab(df[\"workclass\"], df[\"race\"])"
   ]
  },
  {
   "cell_type": "code",
   "execution_count": 65,
   "metadata": {
    "collapsed": false
   },
   "outputs": [
    {
     "data": {
      "text/plain": [
       "<matplotlib.axes._subplots.AxesSubplot at 0x1407ae10>"
      ]
     },
     "execution_count": 65,
     "metadata": {},
     "output_type": "execute_result"
    },
    {
     "data": {
      "image/png": "[encoded data removed]",
      "text/plain": [
       "<matplotlib.figure.Figure at 0x14be1dd8>"
      ]
     },
     "metadata": {},
     "output_type": "display_data"
    }
   ],
   "source": [
    "pd.crosstab(df[\"workclass\"], df[\"race\"]).plot(kind=\"bar\")"
   ]
  },
  {
   "cell_type": "markdown",
   "metadata": {},
   "source": [
    "##### race+income"
   ]
  },
  {
   "cell_type": "code",
   "execution_count": 66,
   "metadata": {
    "collapsed": false
   },
   "outputs": [
    {
     "data": {
      "text/html": [
       "<div>\n",
       "<table border=\"1\" class=\"dataframe\">\n",
       "  <thead>\n",
       "    <tr style=\"text-align: right;\">\n",
       "      <th>race</th>\n",
       "      <th>Amer-Indian</th>\n",
       "      <th>Asian</th>\n",
       "      <th>Black</th>\n",
       "      <th>Hispanic</th>\n",
       "      <th>White</th>\n",
       "    </tr>\n",
       "    <tr>\n",
       "      <th>income</th>\n",
       "      <th></th>\n",
       "      <th></th>\n",
       "      <th></th>\n",
       "      <th></th>\n",
       "      <th></th>\n",
       "    </tr>\n",
       "  </thead>\n",
       "  <tbody>\n",
       "    <tr>\n",
       "      <th>&lt;=50K</th>\n",
       "      <td>83</td>\n",
       "      <td>224</td>\n",
       "      <td>773</td>\n",
       "      <td>69</td>\n",
       "      <td>5944</td>\n",
       "    </tr>\n",
       "    <tr>\n",
       "      <th>&gt;50K</th>\n",
       "      <td>9</td>\n",
       "      <td>67</td>\n",
       "      <td>119</td>\n",
       "      <td>6</td>\n",
       "      <td>2118</td>\n",
       "    </tr>\n",
       "  </tbody>\n",
       "</table>\n",
       "</div>"
      ],
      "text/plain": [
       "race    Amer-Indian  Asian  Black  Hispanic  White\n",
       "income                                            \n",
       "<=50K            83    224    773        69   5944\n",
       ">50K              9     67    119         6   2118"
      ]
     },
     "execution_count": 66,
     "metadata": {},
     "output_type": "execute_result"
    }
   ],
   "source": [
    "pd.crosstab(df[\"income\"], df[\"race\"])"
   ]
  },
  {
   "cell_type": "code",
   "execution_count": 67,
   "metadata": {
    "collapsed": false
   },
   "outputs": [
    {
     "data": {
      "text/plain": [
       "<matplotlib.axes._subplots.AxesSubplot at 0x13f747b8>"
      ]
     },
     "execution_count": 67,
     "metadata": {},
     "output_type": "execute_result"
    },
    {
     "data": {
      "image/png": "[encoded data removed]",
      "text/plain": [
       "<matplotlib.figure.Figure at 0x1404a6d8>"
      ]
     },
     "metadata": {},
     "output_type": "display_data"
    }
   ],
   "source": [
    "pd.crosstab(df[\"income\"], df[\"race\"]).plot(kind=\"bar\")"
   ]
  },
  {
   "cell_type": "code",
   "execution_count": 68,
   "metadata": {
    "collapsed": false
   },
   "outputs": [
    {
     "data": {
      "text/plain": [
       "<matplotlib.axes._subplots.AxesSubplot at 0x14f2dda0>"
      ]
     },
     "execution_count": 68,
     "metadata": {},
     "output_type": "execute_result"
    },
    {
     "data": {
      "image/png": "[encoded data removed]",
      "text/plain": [
       "<matplotlib.figure.Figure at 0x14ac6e10>"
      ]
     },
     "metadata": {},
     "output_type": "display_data"
    }
   ],
   "source": [
    "race_income = df[df[\"income\"]==\"<=50K\"][\"race\"].value_counts() / df[df[\"income\"]==\"<=50K\"][\"race\"].count()\n",
    "race_income.plot(kind=\"pie\",title =\"Race Percentage in the Low-income Group\")"
   ]
  },
  {
   "cell_type": "markdown",
   "metadata": {},
   "source": [
    "##### Conclusion:\n",
    "    The race group is inbalanced as the number of white people is very large. That's why white people dominate several plots above.\n",
    "    White and Asian have the highest education level, followed by Ame-Indian, Black and Hispanic.\n",
    "    \n",
    "    "
   ]
  },
  {
   "cell_type": "markdown",
   "metadata": {
    "collapsed": true
   },
   "source": [
    "\n",
    "iv. Compare and contrast the characteristics of the low-income and high-income categories across the different attributes. "
   ]
  },
  {
   "cell_type": "code",
   "execution_count": 69,
   "metadata": {
    "collapsed": false
   },
   "outputs": [
    {
     "data": {
      "text/html": [
       "<div>\n",
       "<table border=\"1\" class=\"dataframe\">\n",
       "  <thead>\n",
       "    <tr style=\"text-align: right;\">\n",
       "      <th></th>\n",
       "      <th></th>\n",
       "      <th>age</th>\n",
       "      <th>education</th>\n",
       "      <th>hours-per-week</th>\n",
       "    </tr>\n",
       "    <tr>\n",
       "      <th>income</th>\n",
       "      <th></th>\n",
       "      <th></th>\n",
       "      <th></th>\n",
       "      <th></th>\n",
       "    </tr>\n",
       "  </thead>\n",
       "  <tbody>\n",
       "    <tr>\n",
       "      <th rowspan=\"8\" valign=\"top\">&lt;=50K</th>\n",
       "      <th>count</th>\n",
       "      <td>7093.000000</td>\n",
       "      <td>7093.000000</td>\n",
       "      <td>7093.000000</td>\n",
       "    </tr>\n",
       "    <tr>\n",
       "      <th>mean</th>\n",
       "      <td>36.644604</td>\n",
       "      <td>9.646976</td>\n",
       "      <td>39.567038</td>\n",
       "    </tr>\n",
       "    <tr>\n",
       "      <th>std</th>\n",
       "      <td>13.340142</td>\n",
       "      <td>2.397358</td>\n",
       "      <td>11.868506</td>\n",
       "    </tr>\n",
       "    <tr>\n",
       "      <th>min</th>\n",
       "      <td>17.000000</td>\n",
       "      <td>1.000000</td>\n",
       "      <td>1.000000</td>\n",
       "    </tr>\n",
       "    <tr>\n",
       "      <th>25%</th>\n",
       "      <td>26.000000</td>\n",
       "      <td>9.000000</td>\n",
       "      <td>38.000000</td>\n",
       "    </tr>\n",
       "    <tr>\n",
       "      <th>50%</th>\n",
       "      <td>35.000000</td>\n",
       "      <td>9.000000</td>\n",
       "      <td>40.000000</td>\n",
       "    </tr>\n",
       "    <tr>\n",
       "      <th>75%</th>\n",
       "      <td>45.000000</td>\n",
       "      <td>10.000000</td>\n",
       "      <td>40.000000</td>\n",
       "    </tr>\n",
       "    <tr>\n",
       "      <th>max</th>\n",
       "      <td>90.000000</td>\n",
       "      <td>16.000000</td>\n",
       "      <td>99.000000</td>\n",
       "    </tr>\n",
       "    <tr>\n",
       "      <th rowspan=\"8\" valign=\"top\">&gt;50K</th>\n",
       "      <th>count</th>\n",
       "      <td>2319.000000</td>\n",
       "      <td>2319.000000</td>\n",
       "      <td>2319.000000</td>\n",
       "    </tr>\n",
       "    <tr>\n",
       "      <th>mean</th>\n",
       "      <td>43.632531</td>\n",
       "      <td>11.588185</td>\n",
       "      <td>45.708495</td>\n",
       "    </tr>\n",
       "    <tr>\n",
       "      <th>std</th>\n",
       "      <td>10.042135</td>\n",
       "      <td>2.410764</td>\n",
       "      <td>10.678794</td>\n",
       "    </tr>\n",
       "    <tr>\n",
       "      <th>min</th>\n",
       "      <td>19.000000</td>\n",
       "      <td>2.000000</td>\n",
       "      <td>1.000000</td>\n",
       "    </tr>\n",
       "    <tr>\n",
       "      <th>25%</th>\n",
       "      <td>36.000000</td>\n",
       "      <td>9.000000</td>\n",
       "      <td>40.000000</td>\n",
       "    </tr>\n",
       "    <tr>\n",
       "      <th>50%</th>\n",
       "      <td>43.000000</td>\n",
       "      <td>12.000000</td>\n",
       "      <td>40.000000</td>\n",
       "    </tr>\n",
       "    <tr>\n",
       "      <th>75%</th>\n",
       "      <td>50.000000</td>\n",
       "      <td>13.000000</td>\n",
       "      <td>50.000000</td>\n",
       "    </tr>\n",
       "    <tr>\n",
       "      <th>max</th>\n",
       "      <td>90.000000</td>\n",
       "      <td>16.000000</td>\n",
       "      <td>99.000000</td>\n",
       "    </tr>\n",
       "  </tbody>\n",
       "</table>\n",
       "</div>"
      ],
      "text/plain": [
       "                      age    education  hours-per-week\n",
       "income                                                \n",
       "<=50K  count  7093.000000  7093.000000     7093.000000\n",
       "       mean     36.644604     9.646976       39.567038\n",
       "       std      13.340142     2.397358       11.868506\n",
       "       min      17.000000     1.000000        1.000000\n",
       "       25%      26.000000     9.000000       38.000000\n",
       "       50%      35.000000     9.000000       40.000000\n",
       "       75%      45.000000    10.000000       40.000000\n",
       "       max      90.000000    16.000000       99.000000\n",
       ">50K   count  2319.000000  2319.000000     2319.000000\n",
       "       mean     43.632531    11.588185       45.708495\n",
       "       std      10.042135     2.410764       10.678794\n",
       "       min      19.000000     2.000000        1.000000\n",
       "       25%      36.000000     9.000000       40.000000\n",
       "       50%      43.000000    12.000000       40.000000\n",
       "       75%      50.000000    13.000000       50.000000\n",
       "       max      90.000000    16.000000       99.000000"
      ]
     },
     "execution_count": 69,
     "metadata": {},
     "output_type": "execute_result"
    }
   ],
   "source": [
    "df.groupby(\"income\").describe()"
   ]
  },
  {
   "cell_type": "code",
   "execution_count": 70,
   "metadata": {
    "collapsed": false
   },
   "outputs": [
    {
     "data": {
      "text/plain": [
       "<matplotlib.axes._subplots.AxesSubplot at 0x14f4a6d8>"
      ]
     },
     "execution_count": 70,
     "metadata": {},
     "output_type": "execute_result"
    },
    {
     "data": {
      "image/png": "[encoded data removed]",
      "text/plain": [
       "<matplotlib.figure.Figure at 0x14f524a8>"
      ]
     },
     "metadata": {},
     "output_type": "display_data"
    }
   ],
   "source": [
    "pd.crosstab(df[\"income\"], df[\"marital-status\"]).plot(kind=\"bar\")"
   ]
  },
  {
   "cell_type": "code",
   "execution_count": 71,
   "metadata": {
    "collapsed": false
   },
   "outputs": [
    {
     "data": {
      "text/plain": [
       "<matplotlib.axes._subplots.AxesSubplot at 0x14faf518>"
      ]
     },
     "execution_count": 71,
     "metadata": {},
     "output_type": "execute_result"
    },
    {
     "data": {
      "image/png": "[encoded data removed]",
      "text/plain": [
       "<matplotlib.figure.Figure at 0x14ff8b70>"
      ]
     },
     "metadata": {},
     "output_type": "display_data"
    }
   ],
   "source": [
    "pd.crosstab(df[\"income\"], df[\"sex\"]).plot(kind=\"bar\")"
   ]
  },
  {
   "cell_type": "markdown",
   "metadata": {},
   "source": [
    "##### Conclusion:\n",
    "    70% people fall into the low income class and the rest 30% fall into the high income class.\n",
    "    The high income class, in general, is older, more educated and of more working hours per week.\n",
    "    Most of the high income class are married, while most are signle in the low income class.\n",
    "    Male dominates the high income class."
   ]
  },
  {
   "cell_type": "markdown",
   "metadata": {},
   "source": [
    "\n",
    "#### 3.b Predictive Modeling and Model Evaluation:"
   ]
  },
  {
   "cell_type": "markdown",
   "metadata": {},
   "source": [
    "\n",
    "i. Using either Pandas or Scikit-learn, create dummy variables for the categorical attributes. Then separate the target attribute (\"income_>50K\") from the attributes used for training. [Note: you need to drop \"income_<=50K\" which is also created as a dummy variable in earlier steps)."
   ]
  },
  {
   "cell_type": "code",
   "execution_count": 72,
   "metadata": {
    "collapsed": false
   },
   "outputs": [
    {
     "data": {
      "text/plain": [
       "Index(['age', 'education', 'hours-per-week', 'workclass_Private',\n",
       "       'workclass_Public', 'workclass_Self-emp', 'marital-status_Married',\n",
       "       'marital-status_Single', 'race_Amer-Indian', 'race_Asian', 'race_Black',\n",
       "       'race_Hispanic', 'race_White', 'sex_Female', 'sex_Male'],\n",
       "      dtype='object')"
      ]
     },
     "execution_count": 72,
     "metadata": {},
     "output_type": "execute_result"
    }
   ],
   "source": [
    "dummies = pd.get_dummies(df, columns = [\"workclass\",\"marital-status\", \"race\",\"sex\", \"income\"])\n",
    "target = dummies[\"income_>50K\"]\n",
    "dummies.drop([\"income_<=50K\",\"income_>50K\"],axis =1, inplace=True)\n",
    "dummies.columns"
   ]
  },
  {
   "cell_type": "markdown",
   "metadata": {},
   "source": [
    "\n",
    "ii. Use scikit-learn to build classifiers uisng Naive Bayes (Gaussian), decision tree (using \"entropy\" as selection criteria), and linear discriminant analysis (LDA). For each of these perform 10-fold cross-validation (using cross-validation module in scikit-learn) and report the overall average accuracy. "
   ]
  },
  {
   "cell_type": "markdown",
   "metadata": {},
   "source": [
    "Naive Bayes (Gaussian)"
   ]
  },
  {
   "cell_type": "code",
   "execution_count": 73,
   "metadata": {
    "collapsed": false
   },
   "outputs": [
    {
     "name": "stdout",
     "output_type": "stream",
     "text": [
      "Overall Accuracy of Naive Bayes (Gaussian): 0.72 (+/- 0.02)\n"
     ]
    }
   ],
   "source": [
    "from sklearn import cross_validation\n",
    "from sklearn import naive_bayes, tree\n",
    "from sklearn.discriminant_analysis import LinearDiscriminantAnalysis\n",
    "nbclf = naive_bayes.GaussianNB()\n",
    "cv_nb = cross_validation.cross_val_score(nbclf, dummies, target, cv=10)\n",
    "print(\"Overall Accuracy of Naive Bayes (Gaussian): %0.2f (+/- %0.2f)\" % (cv_nb.mean(), cv_nb.std() * 2))"
   ]
  },
  {
   "cell_type": "markdown",
   "metadata": {},
   "source": [
    "linear discriminant analysis (LDA)"
   ]
  },
  {
   "cell_type": "code",
   "execution_count": 74,
   "metadata": {
    "collapsed": false
   },
   "outputs": [
    {
     "name": "stdout",
     "output_type": "stream",
     "text": [
      "Overall Accuracy of LDA: 0.81 (+/- 0.02)\n"
     ]
    },
    {
     "name": "stderr",
     "output_type": "stream",
     "text": [
      "C:\\Users\\WYAO2\\AppData\\Local\\Continuum\\Anaconda3\\lib\\site-packages\\sklearn\\discriminant_analysis.py:387: UserWarning: Variables are collinear.\n",
      "  warnings.warn(\"Variables are collinear.\")\n",
      "C:\\Users\\WYAO2\\AppData\\Local\\Continuum\\Anaconda3\\lib\\site-packages\\sklearn\\discriminant_analysis.py:387: UserWarning: Variables are collinear.\n",
      "  warnings.warn(\"Variables are collinear.\")\n",
      "C:\\Users\\WYAO2\\AppData\\Local\\Continuum\\Anaconda3\\lib\\site-packages\\sklearn\\discriminant_analysis.py:387: UserWarning: Variables are collinear.\n",
      "  warnings.warn(\"Variables are collinear.\")\n",
      "C:\\Users\\WYAO2\\AppData\\Local\\Continuum\\Anaconda3\\lib\\site-packages\\sklearn\\discriminant_analysis.py:387: UserWarning: Variables are collinear.\n",
      "  warnings.warn(\"Variables are collinear.\")\n",
      "C:\\Users\\WYAO2\\AppData\\Local\\Continuum\\Anaconda3\\lib\\site-packages\\sklearn\\discriminant_analysis.py:387: UserWarning: Variables are collinear.\n",
      "  warnings.warn(\"Variables are collinear.\")\n",
      "C:\\Users\\WYAO2\\AppData\\Local\\Continuum\\Anaconda3\\lib\\site-packages\\sklearn\\discriminant_analysis.py:387: UserWarning: Variables are collinear.\n",
      "  warnings.warn(\"Variables are collinear.\")\n",
      "C:\\Users\\WYAO2\\AppData\\Local\\Continuum\\Anaconda3\\lib\\site-packages\\sklearn\\discriminant_analysis.py:387: UserWarning: Variables are collinear.\n",
      "  warnings.warn(\"Variables are collinear.\")\n",
      "C:\\Users\\WYAO2\\AppData\\Local\\Continuum\\Anaconda3\\lib\\site-packages\\sklearn\\discriminant_analysis.py:387: UserWarning: Variables are collinear.\n",
      "  warnings.warn(\"Variables are collinear.\")\n",
      "C:\\Users\\WYAO2\\AppData\\Local\\Continuum\\Anaconda3\\lib\\site-packages\\sklearn\\discriminant_analysis.py:387: UserWarning: Variables are collinear.\n",
      "  warnings.warn(\"Variables are collinear.\")\n",
      "C:\\Users\\WYAO2\\AppData\\Local\\Continuum\\Anaconda3\\lib\\site-packages\\sklearn\\discriminant_analysis.py:387: UserWarning: Variables are collinear.\n",
      "  warnings.warn(\"Variables are collinear.\")\n"
     ]
    }
   ],
   "source": [
    "ldclf = LinearDiscriminantAnalysis()\n",
    "cv_ld = cross_validation.cross_val_score(ldclf, dummies, target, cv=10)\n",
    "print(\"Overall Accuracy of LDA: %0.2f (+/- %0.2f)\" % (cv_ld.mean(), cv_ld.std() * 2))"
   ]
  },
  {
   "cell_type": "markdown",
   "metadata": {},
   "source": [
    "Decision Tree"
   ]
  },
  {
   "cell_type": "code",
   "execution_count": 75,
   "metadata": {
    "collapsed": false
   },
   "outputs": [
    {
     "name": "stdout",
     "output_type": "stream",
     "text": [
      "Overall Accuracy of Decision Tree: 0.82 (+/- 0.02)\n"
     ]
    }
   ],
   "source": [
    "treeclf = tree.DecisionTreeClassifier(criterion='entropy', min_samples_split=20, max_depth= 5)\n",
    "cv_tr = cross_validation.cross_val_score(treeclf, dummies, target, cv=10)\n",
    "print(\"Overall Accuracy of Decision Tree: %0.2f (+/- %0.2f)\" % (cv_tr.mean(), cv_tr.std() * 2))"
   ]
  },
  {
   "cell_type": "markdown",
   "metadata": {},
   "source": [
    "iii. [Extra Credit] For the decision tree model (generated on the full training data), generate a visualization of tree and submit it as a separate file (png, jpg, or pdf)."
   ]
  },
  {
   "cell_type": "code",
   "execution_count": 76,
   "metadata": {
    "collapsed": true
   },
   "outputs": [],
   "source": [
    "try:\n",
    "    from StringIO import StringIO\n",
    "except ImportError:\n",
    "    from io import StringIO"
   ]
  },
  {
   "cell_type": "code",
   "execution_count": 77,
   "metadata": {
    "collapsed": false
   },
   "outputs": [],
   "source": [
    "import pydot\n",
    "import pydotplus # Use pydotplus for Python 3"
   ]
  },
  {
   "cell_type": "code",
   "execution_count": 78,
   "metadata": {
    "collapsed": false
   },
   "outputs": [],
   "source": [
    "treeclf = tree.DecisionTreeClassifier(criterion='entropy', min_samples_split=20, max_depth= 5)\n",
    "treeclf.fit(dummies, target) \n",
    "tree.export_graphviz(treeclf,out_file='tree.dot',feature_names=list(dummies.columns))  "
   ]
  },
  {
   "cell_type": "code",
   "execution_count": 79,
   "metadata": {
    "collapsed": false
   },
   "outputs": [
    {
     "data": {
      "text/plain": [
       "True"
      ]
     },
     "execution_count": 79,
     "metadata": {},
     "output_type": "execute_result"
    }
   ],
   "source": [
    "dot_data = StringIO()\n",
    "tree.export_graphviz(treeclf, out_file=dot_data, feature_names=list(dummies.columns))  \n",
    "graph= pydotplus.graph_from_dot_data(dot_data.getvalue())\n",
    "graph.write_png(\"vs_tree.png\")"
   ]
  },
  {
   "cell_type": "code",
   "execution_count": 80,
   "metadata": {
    "collapsed": false
   },
   "outputs": [
    {
     "data": {
      "image/png": "[encoded data removed]",
      "text/plain": [
       "<IPython.core.display.Image object>"
      ]
     },
     "execution_count": 80,
     "metadata": {},
     "output_type": "execute_result"
    }
   ],
   "source": [
    "from IPython.display import Image\n",
    "Image(filename='vs_tree.png')"
   ]
  }
 ],
 "metadata": {
  "anaconda-cloud": {},
  "kernelspec": {
   "display_name": "Python [Root]",
   "language": "python",
   "name": "Python [Root]"
  },
  "language_info": {
   "codemirror_mode": {
    "name": "ipython",
    "version": 3
   },
   "file_extension": ".py",
   "mimetype": "text/x-python",
   "name": "python",
   "nbconvert_exporter": "python",
   "pygments_lexer": "ipython3",
   "version": "3.5.2"
  }
 },
 "nbformat": 4,
 "nbformat_minor": 0
}
